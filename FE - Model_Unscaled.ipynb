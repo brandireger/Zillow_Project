{
 "cells": [
  {
   "cell_type": "code",
   "execution_count": 1,
   "metadata": {},
   "outputs": [],
   "source": [
    "import numpy as np\n",
    "import pandas as pd\n",
    "pd.options.display.float_format = '{:.3f}'.format\n",
    "import matplotlib.pyplot as plt\n",
    "%matplotlib inline\n",
    "import seaborn as sns\n",
    "from sklearn.metrics import mean_squared_error\n",
    "from sklearn.linear_model import LinearRegression\n",
    "from sklearn.feature_selection import RFE\n",
    "from sklearn.preprocessing import PolynomialFeatures\n",
    "from statsmodels.formula.api import ols\n",
    "from math import sqrt\n",
    "import warnings\n",
    "warnings.filterwarnings(\"ignore\")\n",
    "\n",
    "import model\n",
    "import split_scale"
   ]
  },
  {
   "cell_type": "code",
   "execution_count": 2,
   "metadata": {},
   "outputs": [],
   "source": [
    "zillow = pd.read_csv('zillow_FE.csv')"
   ]
  },
  {
   "cell_type": "code",
   "execution_count": 3,
   "metadata": {},
   "outputs": [
    {
     "data": {
      "text/html": [
       "<div>\n",
       "<style scoped>\n",
       "    .dataframe tbody tr th:only-of-type {\n",
       "        vertical-align: middle;\n",
       "    }\n",
       "\n",
       "    .dataframe tbody tr th {\n",
       "        vertical-align: top;\n",
       "    }\n",
       "\n",
       "    .dataframe thead th {\n",
       "        text-align: right;\n",
       "    }\n",
       "</style>\n",
       "<table border=\"1\" class=\"dataframe\">\n",
       "  <thead>\n",
       "    <tr style=\"text-align: right;\">\n",
       "      <th></th>\n",
       "      <th>Unnamed: 0</th>\n",
       "      <th>index</th>\n",
       "      <th>parcelid</th>\n",
       "      <th>neighborhood</th>\n",
       "      <th>value</th>\n",
       "      <th>baths</th>\n",
       "      <th>beds</th>\n",
       "      <th>home_sf</th>\n",
       "      <th>is_extra</th>\n",
       "      <th>county</th>\n",
       "      <th>state</th>\n",
       "      <th>tax_rate</th>\n",
       "      <th>size_ratio</th>\n",
       "      <th>factor</th>\n",
       "      <th>sq_feet_proxy6</th>\n",
       "    </tr>\n",
       "  </thead>\n",
       "  <tbody>\n",
       "    <tr>\n",
       "      <th>88</th>\n",
       "      <td>88</td>\n",
       "      <td>137</td>\n",
       "      <td>17129832</td>\n",
       "      <td>0</td>\n",
       "      <td>425115</td>\n",
       "      <td>3.000</td>\n",
       "      <td>6</td>\n",
       "      <td>2901</td>\n",
       "      <td>0</td>\n",
       "      <td>Ventura</td>\n",
       "      <td>CA</td>\n",
       "      <td>0.011</td>\n",
       "      <td>0.395</td>\n",
       "      <td>309.836</td>\n",
       "      <td>9.363</td>\n",
       "    </tr>\n",
       "    <tr>\n",
       "      <th>4837</th>\n",
       "      <td>4837</td>\n",
       "      <td>7581</td>\n",
       "      <td>17227544</td>\n",
       "      <td>0</td>\n",
       "      <td>614179</td>\n",
       "      <td>2.000</td>\n",
       "      <td>4</td>\n",
       "      <td>2402</td>\n",
       "      <td>1</td>\n",
       "      <td>Ventura</td>\n",
       "      <td>CA</td>\n",
       "      <td>0.012</td>\n",
       "      <td>0.293</td>\n",
       "      <td>309.836</td>\n",
       "      <td>7.752</td>\n",
       "    </tr>\n",
       "    <tr>\n",
       "      <th>3411</th>\n",
       "      <td>3411</td>\n",
       "      <td>5359</td>\n",
       "      <td>11346241</td>\n",
       "      <td>0</td>\n",
       "      <td>466643</td>\n",
       "      <td>3.000</td>\n",
       "      <td>4</td>\n",
       "      <td>2557</td>\n",
       "      <td>1</td>\n",
       "      <td>Los_Angeles</td>\n",
       "      <td>CA</td>\n",
       "      <td>0.015</td>\n",
       "      <td>0.414</td>\n",
       "      <td>309.836</td>\n",
       "      <td>8.253</td>\n",
       "    </tr>\n",
       "    <tr>\n",
       "      <th>4426</th>\n",
       "      <td>4426</td>\n",
       "      <td>6933</td>\n",
       "      <td>11216731</td>\n",
       "      <td>0</td>\n",
       "      <td>202444</td>\n",
       "      <td>2.000</td>\n",
       "      <td>3</td>\n",
       "      <td>1503</td>\n",
       "      <td>0</td>\n",
       "      <td>Los_Angeles</td>\n",
       "      <td>CA</td>\n",
       "      <td>0.021</td>\n",
       "      <td>0.193</td>\n",
       "      <td>309.836</td>\n",
       "      <td>4.851</td>\n",
       "    </tr>\n",
       "    <tr>\n",
       "      <th>3969</th>\n",
       "      <td>3969</td>\n",
       "      <td>6233</td>\n",
       "      <td>13063534</td>\n",
       "      <td>0</td>\n",
       "      <td>179911</td>\n",
       "      <td>1.000</td>\n",
       "      <td>3</td>\n",
       "      <td>1092</td>\n",
       "      <td>0</td>\n",
       "      <td>Los_Angeles</td>\n",
       "      <td>CA</td>\n",
       "      <td>0.013</td>\n",
       "      <td>0.181</td>\n",
       "      <td>309.836</td>\n",
       "      <td>3.524</td>\n",
       "    </tr>\n",
       "  </tbody>\n",
       "</table>\n",
       "</div>"
      ],
      "text/plain": [
       "      Unnamed: 0  index  parcelid  neighborhood   value  baths  beds  home_sf  \\\n",
       "88            88    137  17129832             0  425115  3.000     6     2901   \n",
       "4837        4837   7581  17227544             0  614179  2.000     4     2402   \n",
       "3411        3411   5359  11346241             0  466643  3.000     4     2557   \n",
       "4426        4426   6933  11216731             0  202444  2.000     3     1503   \n",
       "3969        3969   6233  13063534             0  179911  1.000     3     1092   \n",
       "\n",
       "      is_extra       county state  tax_rate  size_ratio  factor  \\\n",
       "88           0      Ventura    CA     0.011       0.395 309.836   \n",
       "4837         1      Ventura    CA     0.012       0.293 309.836   \n",
       "3411         1  Los_Angeles    CA     0.015       0.414 309.836   \n",
       "4426         0  Los_Angeles    CA     0.021       0.193 309.836   \n",
       "3969         0  Los_Angeles    CA     0.013       0.181 309.836   \n",
       "\n",
       "      sq_feet_proxy6  \n",
       "88             9.363  \n",
       "4837           7.752  \n",
       "3411           8.253  \n",
       "4426           4.851  \n",
       "3969           3.524  "
      ]
     },
     "execution_count": 3,
     "metadata": {},
     "output_type": "execute_result"
    }
   ],
   "source": [
    "train, test = split_scale.split_my_data(zillow, 0.8)\n",
    "train.head()"
   ]
  },
  {
   "cell_type": "code",
   "execution_count": 4,
   "metadata": {},
   "outputs": [
    {
     "name": "stdout",
     "output_type": "stream",
     "text": [
      "<class 'pandas.core.frame.DataFrame'>\n",
      "Int64Index: 11929 entries, 88 to 13786\n",
      "Data columns (total 15 columns):\n",
      "Unnamed: 0        11929 non-null int64\n",
      "index             11929 non-null int64\n",
      "parcelid          11929 non-null int64\n",
      "neighborhood      11929 non-null int64\n",
      "value             11929 non-null int64\n",
      "baths             11929 non-null float64\n",
      "beds              11929 non-null int64\n",
      "home_sf           11929 non-null int64\n",
      "is_extra          11929 non-null int64\n",
      "county            11929 non-null object\n",
      "state             11929 non-null object\n",
      "tax_rate          11929 non-null float64\n",
      "size_ratio        11929 non-null float64\n",
      "factor            11929 non-null float64\n",
      "sq_feet_proxy6    11929 non-null float64\n",
      "dtypes: float64(5), int64(8), object(2)\n",
      "memory usage: 1.5+ MB\n",
      "<class 'pandas.core.frame.DataFrame'>\n",
      "Int64Index: 2983 entries, 2145 to 3683\n",
      "Data columns (total 15 columns):\n",
      "Unnamed: 0        2983 non-null int64\n",
      "index             2983 non-null int64\n",
      "parcelid          2983 non-null int64\n",
      "neighborhood      2983 non-null int64\n",
      "value             2983 non-null int64\n",
      "baths             2983 non-null float64\n",
      "beds              2983 non-null int64\n",
      "home_sf           2983 non-null int64\n",
      "is_extra          2983 non-null int64\n",
      "county            2983 non-null object\n",
      "state             2983 non-null object\n",
      "tax_rate          2983 non-null float64\n",
      "size_ratio        2983 non-null float64\n",
      "factor            2983 non-null float64\n",
      "sq_feet_proxy6    2983 non-null float64\n",
      "dtypes: float64(5), int64(8), object(2)\n",
      "memory usage: 372.9+ KB\n"
     ]
    },
    {
     "data": {
      "text/plain": [
       "(None, None)"
      ]
     },
     "execution_count": 4,
     "metadata": {},
     "output_type": "execute_result"
    }
   ],
   "source": [
    "train.info(), test.info()"
   ]
  },
  {
   "cell_type": "code",
   "execution_count": 5,
   "metadata": {},
   "outputs": [],
   "source": [
    "# set up train features\n",
    "y = train[['value']]\n",
    "X = train[['baths', 'beds', 'home_sf', 'is_extra', 'size_ratio', 'sq_feet_proxy6']]"
   ]
  },
  {
   "cell_type": "code",
   "execution_count": 6,
   "metadata": {},
   "outputs": [
    {
     "data": {
      "text/html": [
       "<div>\n",
       "<style scoped>\n",
       "    .dataframe tbody tr th:only-of-type {\n",
       "        vertical-align: middle;\n",
       "    }\n",
       "\n",
       "    .dataframe tbody tr th {\n",
       "        vertical-align: top;\n",
       "    }\n",
       "\n",
       "    .dataframe thead th {\n",
       "        text-align: right;\n",
       "    }\n",
       "</style>\n",
       "<table border=\"1\" class=\"dataframe\">\n",
       "  <thead>\n",
       "    <tr style=\"text-align: right;\">\n",
       "      <th></th>\n",
       "      <th>actual</th>\n",
       "      <th>baseline</th>\n",
       "    </tr>\n",
       "  </thead>\n",
       "  <tbody>\n",
       "    <tr>\n",
       "      <th>88</th>\n",
       "      <td>425115</td>\n",
       "      <td>540205.597</td>\n",
       "    </tr>\n",
       "    <tr>\n",
       "      <th>4837</th>\n",
       "      <td>614179</td>\n",
       "      <td>540205.597</td>\n",
       "    </tr>\n",
       "    <tr>\n",
       "      <th>3411</th>\n",
       "      <td>466643</td>\n",
       "      <td>540205.597</td>\n",
       "    </tr>\n",
       "    <tr>\n",
       "      <th>4426</th>\n",
       "      <td>202444</td>\n",
       "      <td>540205.597</td>\n",
       "    </tr>\n",
       "    <tr>\n",
       "      <th>3969</th>\n",
       "      <td>179911</td>\n",
       "      <td>540205.597</td>\n",
       "    </tr>\n",
       "    <tr>\n",
       "      <th>...</th>\n",
       "      <td>...</td>\n",
       "      <td>...</td>\n",
       "    </tr>\n",
       "    <tr>\n",
       "      <th>14448</th>\n",
       "      <td>360751</td>\n",
       "      <td>540205.597</td>\n",
       "    </tr>\n",
       "    <tr>\n",
       "      <th>6289</th>\n",
       "      <td>343834</td>\n",
       "      <td>540205.597</td>\n",
       "    </tr>\n",
       "    <tr>\n",
       "      <th>9638</th>\n",
       "      <td>431817</td>\n",
       "      <td>540205.597</td>\n",
       "    </tr>\n",
       "    <tr>\n",
       "      <th>3021</th>\n",
       "      <td>431481</td>\n",
       "      <td>540205.597</td>\n",
       "    </tr>\n",
       "    <tr>\n",
       "      <th>13786</th>\n",
       "      <td>117731</td>\n",
       "      <td>540205.597</td>\n",
       "    </tr>\n",
       "  </tbody>\n",
       "</table>\n",
       "<p>11929 rows × 2 columns</p>\n",
       "</div>"
      ],
      "text/plain": [
       "       actual   baseline\n",
       "88     425115 540205.597\n",
       "4837   614179 540205.597\n",
       "3411   466643 540205.597\n",
       "4426   202444 540205.597\n",
       "3969   179911 540205.597\n",
       "...       ...        ...\n",
       "14448  360751 540205.597\n",
       "6289   343834 540205.597\n",
       "9638   431817 540205.597\n",
       "3021   431481 540205.597\n",
       "13786  117731 540205.597\n",
       "\n",
       "[11929 rows x 2 columns]"
      ]
     },
     "execution_count": 6,
     "metadata": {},
     "output_type": "execute_result"
    }
   ],
   "source": [
    "# Create predictions dataframe\n",
    "predictions = pd.DataFrame({\n",
    "    'actual': train.value,\n",
    "    'baseline': train.value.mean()\n",
    "})\n",
    "predictions"
   ]
  },
  {
   "cell_type": "code",
   "execution_count": 38,
   "metadata": {},
   "outputs": [],
   "source": [
    "# MVP model for comparison\n",
    "X = train[['baths', 'beds', 'home_sf']]\n",
    "\n",
    "poly = PolynomialFeatures(degree=3)\n",
    "X_poly = poly.fit_transform(X)\n",
    "lm_poly = LinearRegression(normalize=False).fit(X_poly, y)\n",
    "predictions['poly'] = lm_poly.predict(X_poly)"
   ]
  },
  {
   "cell_type": "code",
   "execution_count": 42,
   "metadata": {},
   "outputs": [],
   "source": [
    "X = train[['baths', 'beds', 'home_sf', 'is_extra', 'size_ratio', 'sq_feet_proxy6']]\n",
    "\n",
    "poly = PolynomialFeatures(degree=6)\n",
    "X_poly = poly.fit_transform(X)\n",
    "lm_all = LinearRegression(copy_X=True, fit_intercept=True, n_jobs=None, normalize=False).fit(X, y)\n",
    "predictions['all'] = lm_all.predict(X)"
   ]
  },
  {
   "cell_type": "code",
   "execution_count": 43,
   "metadata": {},
   "outputs": [
    {
     "name": "stdout",
     "output_type": "stream",
     "text": [
      "['baths', 'is_extra']\n"
     ]
    }
   ],
   "source": [
    "# use RFE to select top 2\n",
    "model.select_rfe(X, y, 2)"
   ]
  },
  {
   "cell_type": "code",
   "execution_count": 44,
   "metadata": {},
   "outputs": [
    {
     "name": "stdout",
     "output_type": "stream",
     "text": [
      "['baths', 'beds', 'is_extra']\n"
     ]
    }
   ],
   "source": [
    "# use RFE to select top 3\n",
    "model.select_rfe(X, y, 3)"
   ]
  },
  {
   "cell_type": "code",
   "execution_count": 45,
   "metadata": {},
   "outputs": [
    {
     "name": "stdout",
     "output_type": "stream",
     "text": [
      "['baths', 'beds', 'is_extra', 'size_ratio']\n"
     ]
    }
   ],
   "source": [
    "# use RFE to select top 4\n",
    "model.select_rfe(X, y, 4)"
   ]
  },
  {
   "cell_type": "code",
   "execution_count": 46,
   "metadata": {},
   "outputs": [
    {
     "name": "stdout",
     "output_type": "stream",
     "text": [
      "['baths', 'beds', 'is_extra', 'size_ratio', 'sq_feet_proxy6']\n"
     ]
    }
   ],
   "source": [
    "# use RFE to select top 5\n",
    "model.select_rfe(X, y, 5)"
   ]
  },
  {
   "cell_type": "code",
   "execution_count": 47,
   "metadata": {},
   "outputs": [],
   "source": [
    "X_rfe2 = train[['baths', 'is_extra']]\n",
    "\n",
    "poly = PolynomialFeatures(degree=2)\n",
    "X_poly = poly.fit_transform(X_rfe2)\n",
    "lm_rfe = LinearRegression(copy_X=True, fit_intercept=True, n_jobs=None, normalize=False).fit(X_poly, y)\n",
    "predictions['rfe2'] = lm_rfe.predict(X_poly)"
   ]
  },
  {
   "cell_type": "code",
   "execution_count": 48,
   "metadata": {},
   "outputs": [],
   "source": [
    "X_rfe3 = train[['baths', 'beds', 'is_extra']]\n",
    "\n",
    "poly = PolynomialFeatures(degree=3)\n",
    "X_poly = poly.fit_transform(X_rfe3)\n",
    "lm_rfe3 = LinearRegression(copy_X=True, fit_intercept=True, n_jobs=None, normalize=False).fit(X_poly, y)\n",
    "predictions['rfe3'] = lm_rfe3.predict(X_poly)"
   ]
  },
  {
   "cell_type": "code",
   "execution_count": 49,
   "metadata": {},
   "outputs": [],
   "source": [
    "X_rfe4 = train[['baths', 'beds', 'is_extra', 'size_ratio']]\n",
    "\n",
    "poly = PolynomialFeatures(degree=4)\n",
    "X_poly = poly.fit_transform(X_rfe4)\n",
    "lm_rfe4 = LinearRegression(copy_X=True, fit_intercept=True, n_jobs=None, normalize=False).fit(X_poly, y)\n",
    "predictions['rfe4'] = lm_rfe4.predict(X_poly)"
   ]
  },
  {
   "cell_type": "code",
   "execution_count": 50,
   "metadata": {},
   "outputs": [],
   "source": [
    "X_rfe5 = train[['baths', 'beds', 'is_extra', 'size_ratio', 'sq_feet_proxy6']]\n",
    "\n",
    "poly = PolynomialFeatures(degree=5)\n",
    "X_poly = poly.fit_transform(X_rfe5)\n",
    "lm_rfe5 = LinearRegression(copy_X=True, fit_intercept=True, n_jobs=None, normalize=False).fit(X_poly, y)\n",
    "predictions['rfe5'] = lm_rfe5.predict(X_poly)"
   ]
  },
  {
   "cell_type": "code",
   "execution_count": 51,
   "metadata": {},
   "outputs": [
    {
     "data": {
      "text/html": [
       "<div>\n",
       "<style scoped>\n",
       "    .dataframe tbody tr th:only-of-type {\n",
       "        vertical-align: middle;\n",
       "    }\n",
       "\n",
       "    .dataframe tbody tr th {\n",
       "        vertical-align: top;\n",
       "    }\n",
       "\n",
       "    .dataframe thead th {\n",
       "        text-align: right;\n",
       "    }\n",
       "</style>\n",
       "<table border=\"1\" class=\"dataframe\">\n",
       "  <thead>\n",
       "    <tr style=\"text-align: right;\">\n",
       "      <th></th>\n",
       "      <th>actual</th>\n",
       "      <th>baseline</th>\n",
       "      <th>poly</th>\n",
       "      <th>all</th>\n",
       "      <th>rfe2</th>\n",
       "      <th>rfe3</th>\n",
       "      <th>rfe4</th>\n",
       "      <th>rfe5</th>\n",
       "    </tr>\n",
       "  </thead>\n",
       "  <tbody>\n",
       "    <tr>\n",
       "      <th>88</th>\n",
       "      <td>425115</td>\n",
       "      <td>540205.597</td>\n",
       "      <td>493163.828</td>\n",
       "      <td>605164.197</td>\n",
       "      <td>601731.611</td>\n",
       "      <td>549947.186</td>\n",
       "      <td>446874.107</td>\n",
       "      <td>408103.994</td>\n",
       "    </tr>\n",
       "    <tr>\n",
       "      <th>4837</th>\n",
       "      <td>614179</td>\n",
       "      <td>540205.597</td>\n",
       "      <td>509488.192</td>\n",
       "      <td>607075.428</td>\n",
       "      <td>450213.369</td>\n",
       "      <td>378425.019</td>\n",
       "      <td>469910.494</td>\n",
       "      <td>442547.578</td>\n",
       "    </tr>\n",
       "    <tr>\n",
       "      <th>3411</th>\n",
       "      <td>466643</td>\n",
       "      <td>540205.597</td>\n",
       "      <td>588720.871</td>\n",
       "      <td>737558.460</td>\n",
       "      <td>727880.780</td>\n",
       "      <td>677751.230</td>\n",
       "      <td>683197.728</td>\n",
       "      <td>720154.274</td>\n",
       "    </tr>\n",
       "    <tr>\n",
       "      <th>4426</th>\n",
       "      <td>202444</td>\n",
       "      <td>540205.597</td>\n",
       "      <td>338692.110</td>\n",
       "      <td>327237.914</td>\n",
       "      <td>346348.376</td>\n",
       "      <td>360534.776</td>\n",
       "      <td>321575.049</td>\n",
       "      <td>302047.820</td>\n",
       "    </tr>\n",
       "    <tr>\n",
       "      <th>3969</th>\n",
       "      <td>179911</td>\n",
       "      <td>540205.597</td>\n",
       "      <td>282465.205</td>\n",
       "      <td>80547.351</td>\n",
       "      <td>300728.754</td>\n",
       "      <td>304313.877</td>\n",
       "      <td>297100.785</td>\n",
       "      <td>244705.650</td>\n",
       "    </tr>\n",
       "  </tbody>\n",
       "</table>\n",
       "</div>"
      ],
      "text/plain": [
       "      actual   baseline       poly        all       rfe2       rfe3  \\\n",
       "88    425115 540205.597 493163.828 605164.197 601731.611 549947.186   \n",
       "4837  614179 540205.597 509488.192 607075.428 450213.369 378425.019   \n",
       "3411  466643 540205.597 588720.871 737558.460 727880.780 677751.230   \n",
       "4426  202444 540205.597 338692.110 327237.914 346348.376 360534.776   \n",
       "3969  179911 540205.597 282465.205  80547.351 300728.754 304313.877   \n",
       "\n",
       "           rfe4       rfe5  \n",
       "88   446874.107 408103.994  \n",
       "4837 469910.494 442547.578  \n",
       "3411 683197.728 720154.274  \n",
       "4426 321575.049 302047.820  \n",
       "3969 297100.785 244705.650  "
      ]
     },
     "execution_count": 51,
     "metadata": {},
     "output_type": "execute_result"
    }
   ],
   "source": [
    "predictions.head()"
   ]
  },
  {
   "cell_type": "code",
   "execution_count": 52,
   "metadata": {},
   "outputs": [],
   "source": [
    "# now set up the evaluation functions\n",
    "# I want the RMSE of each model"
   ]
  },
  {
   "cell_type": "code",
   "execution_count": 53,
   "metadata": {},
   "outputs": [],
   "source": [
    "RMSE_bl = model.RMSE(predictions.actual, predictions.baseline)\n",
    "RMSE_poly = model.RMSE(predictions.actual, predictions.poly)\n",
    "RMSE_all = model.RMSE(predictions.actual, predictions['all'])\n",
    "RMSE_rfe2 = model.RMSE(predictions.actual, predictions.rfe2)\n",
    "RMSE_rfe3 = model.RMSE(predictions.actual, predictions.rfe3)\n",
    "RMSE_rfe4 = model.RMSE(predictions.actual, predictions.rfe4)\n",
    "RMSE_rfe5 = model.RMSE(predictions.actual, predictions.rfe5)"
   ]
  },
  {
   "cell_type": "code",
   "execution_count": 54,
   "metadata": {},
   "outputs": [
    {
     "data": {
      "text/html": [
       "<div>\n",
       "<style scoped>\n",
       "    .dataframe tbody tr th:only-of-type {\n",
       "        vertical-align: middle;\n",
       "    }\n",
       "\n",
       "    .dataframe tbody tr th {\n",
       "        vertical-align: top;\n",
       "    }\n",
       "\n",
       "    .dataframe thead th {\n",
       "        text-align: right;\n",
       "    }\n",
       "</style>\n",
       "<table border=\"1\" class=\"dataframe\">\n",
       "  <thead>\n",
       "    <tr style=\"text-align: right;\">\n",
       "      <th></th>\n",
       "      <th>models</th>\n",
       "      <th>model_errors</th>\n",
       "    </tr>\n",
       "  </thead>\n",
       "  <tbody>\n",
       "    <tr>\n",
       "      <th>6</th>\n",
       "      <td>rfe5</td>\n",
       "      <td>494902.821</td>\n",
       "    </tr>\n",
       "    <tr>\n",
       "      <th>1</th>\n",
       "      <td>poly</td>\n",
       "      <td>549375.106</td>\n",
       "    </tr>\n",
       "    <tr>\n",
       "      <th>5</th>\n",
       "      <td>rfe4</td>\n",
       "      <td>577801.509</td>\n",
       "    </tr>\n",
       "    <tr>\n",
       "      <th>2</th>\n",
       "      <td>all</td>\n",
       "      <td>588134.613</td>\n",
       "    </tr>\n",
       "    <tr>\n",
       "      <th>4</th>\n",
       "      <td>rfe3</td>\n",
       "      <td>594801.105</td>\n",
       "    </tr>\n",
       "    <tr>\n",
       "      <th>3</th>\n",
       "      <td>rfe2</td>\n",
       "      <td>602534.384</td>\n",
       "    </tr>\n",
       "    <tr>\n",
       "      <th>0</th>\n",
       "      <td>baseline</td>\n",
       "      <td>745471.923</td>\n",
       "    </tr>\n",
       "  </tbody>\n",
       "</table>\n",
       "</div>"
      ],
      "text/plain": [
       "     models  model_errors\n",
       "6      rfe5    494902.821\n",
       "1      poly    549375.106\n",
       "5      rfe4    577801.509\n",
       "2       all    588134.613\n",
       "4      rfe3    594801.105\n",
       "3      rfe2    602534.384\n",
       "0  baseline    745471.923"
      ]
     },
     "execution_count": 54,
     "metadata": {},
     "output_type": "execute_result"
    }
   ],
   "source": [
    "eval = pd.DataFrame(np.array(['baseline', 'poly', 'all', 'rfe2', 'rfe3', 'rfe4', 'rfe5']), columns=['models'])\n",
    "eval['model_errors'] = np.array([RMSE_bl, RMSE_poly, RMSE_all, RMSE_rfe2, RMSE_rfe3, RMSE_rfe4, RMSE_rfe5, ])\n",
    "\n",
    "eval.sort_values(by='model_errors')"
   ]
  },
  {
   "cell_type": "code",
   "execution_count": null,
   "metadata": {},
   "outputs": [],
   "source": [
    "# This means that the model made using 5 features performs the best\n",
    "# Also, all models performed better than the baseline"
   ]
  },
  {
   "cell_type": "code",
   "execution_count": null,
   "metadata": {},
   "outputs": [],
   "source": []
  }
 ],
 "metadata": {
  "kernelspec": {
   "display_name": "Python 3",
   "language": "python",
   "name": "python3"
  },
  "language_info": {
   "codemirror_mode": {
    "name": "ipython",
    "version": 3
   },
   "file_extension": ".py",
   "mimetype": "text/x-python",
   "name": "python",
   "nbconvert_exporter": "python",
   "pygments_lexer": "ipython3",
   "version": "3.7.4"
  },
  "toc": {
   "base_numbering": 1,
   "nav_menu": {},
   "number_sections": true,
   "sideBar": true,
   "skip_h1_title": false,
   "title_cell": "Table of Contents",
   "title_sidebar": "Contents",
   "toc_cell": false,
   "toc_position": {},
   "toc_section_display": true,
   "toc_window_display": false
  }
 },
 "nbformat": 4,
 "nbformat_minor": 2
}
