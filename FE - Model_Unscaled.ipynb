{
 "cells": [
  {
   "cell_type": "code",
   "execution_count": 1,
   "metadata": {},
   "outputs": [],
   "source": [
    "import numpy as np\n",
    "import pandas as pd\n",
    "pd.options.display.float_format = '{:.3f}'.format\n",
    "import matplotlib.pyplot as plt\n",
    "%matplotlib inline\n",
    "import seaborn as sns\n",
    "from sklearn.metrics import mean_squared_error\n",
    "from sklearn.linear_model import LinearRegression\n",
    "from sklearn.feature_selection import RFE\n",
    "from sklearn.preprocessing import PolynomialFeatures, RobustScaler\n",
    "from statsmodels.formula.api import ols\n",
    "from math import sqrt\n",
    "import warnings\n",
    "warnings.filterwarnings(\"ignore\")\n",
    "\n",
    "import model\n",
    "import split_scale"
   ]
  },
  {
   "cell_type": "code",
   "execution_count": 2,
   "metadata": {},
   "outputs": [],
   "source": [
    "zillow = pd.read_csv('zillow_FE.csv')"
   ]
  },
  {
   "cell_type": "code",
   "execution_count": null,
   "metadata": {},
   "outputs": [],
   "source": [
    "#with pd.option_context('mode.use_inf_as_na', True):\n",
    "#    zillow = zillow.dropna(subset=['home_sf'], how='all')"
   ]
  },
  {
   "cell_type": "code",
   "execution_count": 3,
   "metadata": {},
   "outputs": [
    {
     "data": {
      "text/html": [
       "<div>\n",
       "<style scoped>\n",
       "    .dataframe tbody tr th:only-of-type {\n",
       "        vertical-align: middle;\n",
       "    }\n",
       "\n",
       "    .dataframe tbody tr th {\n",
       "        vertical-align: top;\n",
       "    }\n",
       "\n",
       "    .dataframe thead th {\n",
       "        text-align: right;\n",
       "    }\n",
       "</style>\n",
       "<table border=\"1\" class=\"dataframe\">\n",
       "  <thead>\n",
       "    <tr style=\"text-align: right;\">\n",
       "      <th></th>\n",
       "      <th>Unnamed: 0</th>\n",
       "      <th>parcelid</th>\n",
       "      <th>neighborhood</th>\n",
       "      <th>value</th>\n",
       "      <th>baths</th>\n",
       "      <th>beds</th>\n",
       "      <th>home_sf</th>\n",
       "      <th>is_extra</th>\n",
       "      <th>county</th>\n",
       "      <th>state</th>\n",
       "      <th>tax_rate</th>\n",
       "      <th>size_ratio</th>\n",
       "    </tr>\n",
       "  </thead>\n",
       "  <tbody>\n",
       "    <tr>\n",
       "      <th>88</th>\n",
       "      <td>88</td>\n",
       "      <td>14195073</td>\n",
       "      <td>0</td>\n",
       "      <td>921394</td>\n",
       "      <td>3.000</td>\n",
       "      <td>4</td>\n",
       "      <td>3099</td>\n",
       "      <td>1</td>\n",
       "      <td>Orange</td>\n",
       "      <td>CA</td>\n",
       "      <td>0.012</td>\n",
       "      <td>0.344</td>\n",
       "    </tr>\n",
       "    <tr>\n",
       "      <th>4837</th>\n",
       "      <td>4871</td>\n",
       "      <td>11272452</td>\n",
       "      <td>0</td>\n",
       "      <td>156553</td>\n",
       "      <td>2.000</td>\n",
       "      <td>3</td>\n",
       "      <td>1880</td>\n",
       "      <td>0</td>\n",
       "      <td>Los_Angeles</td>\n",
       "      <td>CA</td>\n",
       "      <td>0.020</td>\n",
       "      <td>0.265</td>\n",
       "    </tr>\n",
       "    <tr>\n",
       "      <th>3411</th>\n",
       "      <td>3436</td>\n",
       "      <td>12938788</td>\n",
       "      <td>0</td>\n",
       "      <td>57109</td>\n",
       "      <td>1.000</td>\n",
       "      <td>3</td>\n",
       "      <td>1056</td>\n",
       "      <td>0</td>\n",
       "      <td>Los_Angeles</td>\n",
       "      <td>CA</td>\n",
       "      <td>0.016</td>\n",
       "      <td>0.142</td>\n",
       "    </tr>\n",
       "    <tr>\n",
       "      <th>4426</th>\n",
       "      <td>4459</td>\n",
       "      <td>14051836</td>\n",
       "      <td>0</td>\n",
       "      <td>665750</td>\n",
       "      <td>3.000</td>\n",
       "      <td>4</td>\n",
       "      <td>1883</td>\n",
       "      <td>0</td>\n",
       "      <td>Orange</td>\n",
       "      <td>CA</td>\n",
       "      <td>0.011</td>\n",
       "      <td>0.308</td>\n",
       "    </tr>\n",
       "    <tr>\n",
       "      <th>3969</th>\n",
       "      <td>3999</td>\n",
       "      <td>10993868</td>\n",
       "      <td>27484</td>\n",
       "      <td>750269</td>\n",
       "      <td>3.000</td>\n",
       "      <td>4</td>\n",
       "      <td>3551</td>\n",
       "      <td>0</td>\n",
       "      <td>Los_Angeles</td>\n",
       "      <td>CA</td>\n",
       "      <td>0.012</td>\n",
       "      <td>0.165</td>\n",
       "    </tr>\n",
       "  </tbody>\n",
       "</table>\n",
       "</div>"
      ],
      "text/plain": [
       "      Unnamed: 0  parcelid  neighborhood   value  baths  beds  home_sf  \\\n",
       "88            88  14195073             0  921394  3.000     4     3099   \n",
       "4837        4871  11272452             0  156553  2.000     3     1880   \n",
       "3411        3436  12938788             0   57109  1.000     3     1056   \n",
       "4426        4459  14051836             0  665750  3.000     4     1883   \n",
       "3969        3999  10993868         27484  750269  3.000     4     3551   \n",
       "\n",
       "      is_extra       county state  tax_rate  size_ratio  \n",
       "88           1       Orange    CA     0.012       0.344  \n",
       "4837         0  Los_Angeles    CA     0.020       0.265  \n",
       "3411         0  Los_Angeles    CA     0.016       0.142  \n",
       "4426         0       Orange    CA     0.011       0.308  \n",
       "3969         0  Los_Angeles    CA     0.012       0.165  "
      ]
     },
     "execution_count": 3,
     "metadata": {},
     "output_type": "execute_result"
    }
   ],
   "source": [
    "train, test = split_scale.split_my_data(zillow, 0.8)\n",
    "train.head()"
   ]
  },
  {
   "cell_type": "code",
   "execution_count": 4,
   "metadata": {},
   "outputs": [
    {
     "data": {
      "text/plain": [
       "Unnamed: 0      0\n",
       "parcelid        0\n",
       "neighborhood    0\n",
       "value           0\n",
       "baths           0\n",
       "beds            0\n",
       "home_sf         0\n",
       "is_extra        0\n",
       "county          0\n",
       "state           0\n",
       "tax_rate        0\n",
       "size_ratio      0\n",
       "dtype: int64"
      ]
     },
     "execution_count": 4,
     "metadata": {},
     "output_type": "execute_result"
    }
   ],
   "source": [
    "zillow.isna().sum()"
   ]
  },
  {
   "cell_type": "code",
   "execution_count": 5,
   "metadata": {},
   "outputs": [
    {
     "name": "stdout",
     "output_type": "stream",
     "text": [
      "<class 'pandas.core.frame.DataFrame'>\n",
      "Int64Index: 11929 entries, 88 to 13786\n",
      "Data columns (total 12 columns):\n",
      "Unnamed: 0      11929 non-null int64\n",
      "parcelid        11929 non-null int64\n",
      "neighborhood    11929 non-null int64\n",
      "value           11929 non-null int64\n",
      "baths           11929 non-null float64\n",
      "beds            11929 non-null int64\n",
      "home_sf         11929 non-null int64\n",
      "is_extra        11929 non-null int64\n",
      "county          11929 non-null object\n",
      "state           11929 non-null object\n",
      "tax_rate        11929 non-null float64\n",
      "size_ratio      11929 non-null float64\n",
      "dtypes: float64(3), int64(7), object(2)\n",
      "memory usage: 1.2+ MB\n"
     ]
    }
   ],
   "source": [
    "train.info()"
   ]
  },
  {
   "cell_type": "code",
   "execution_count": 6,
   "metadata": {},
   "outputs": [],
   "source": [
    "# We are trying to predict Value based on baths, beds and sq. ft\n",
    "y = train[['value']]\n",
    "X = train[['neighborhood', 'baths', 'beds', 'home_sf', 'is_extra', 'size_ratio']]"
   ]
  },
  {
   "cell_type": "code",
   "execution_count": 9,
   "metadata": {},
   "outputs": [
    {
     "data": {
      "text/html": [
       "<div>\n",
       "<style scoped>\n",
       "    .dataframe tbody tr th:only-of-type {\n",
       "        vertical-align: middle;\n",
       "    }\n",
       "\n",
       "    .dataframe tbody tr th {\n",
       "        vertical-align: top;\n",
       "    }\n",
       "\n",
       "    .dataframe thead th {\n",
       "        text-align: right;\n",
       "    }\n",
       "</style>\n",
       "<table border=\"1\" class=\"dataframe\">\n",
       "  <thead>\n",
       "    <tr style=\"text-align: right;\">\n",
       "      <th></th>\n",
       "      <th>actual</th>\n",
       "      <th>baseline</th>\n",
       "    </tr>\n",
       "  </thead>\n",
       "  <tbody>\n",
       "    <tr>\n",
       "      <th>88</th>\n",
       "      <td>921394</td>\n",
       "      <td>538422.475</td>\n",
       "    </tr>\n",
       "    <tr>\n",
       "      <th>4837</th>\n",
       "      <td>156553</td>\n",
       "      <td>538422.475</td>\n",
       "    </tr>\n",
       "    <tr>\n",
       "      <th>3411</th>\n",
       "      <td>57109</td>\n",
       "      <td>538422.475</td>\n",
       "    </tr>\n",
       "    <tr>\n",
       "      <th>4426</th>\n",
       "      <td>665750</td>\n",
       "      <td>538422.475</td>\n",
       "    </tr>\n",
       "    <tr>\n",
       "      <th>3969</th>\n",
       "      <td>750269</td>\n",
       "      <td>538422.475</td>\n",
       "    </tr>\n",
       "    <tr>\n",
       "      <th>...</th>\n",
       "      <td>...</td>\n",
       "      <td>...</td>\n",
       "    </tr>\n",
       "    <tr>\n",
       "      <th>14448</th>\n",
       "      <td>322000</td>\n",
       "      <td>538422.475</td>\n",
       "    </tr>\n",
       "    <tr>\n",
       "      <th>6289</th>\n",
       "      <td>544000</td>\n",
       "      <td>538422.475</td>\n",
       "    </tr>\n",
       "    <tr>\n",
       "      <th>9638</th>\n",
       "      <td>2191923</td>\n",
       "      <td>538422.475</td>\n",
       "    </tr>\n",
       "    <tr>\n",
       "      <th>3021</th>\n",
       "      <td>105193</td>\n",
       "      <td>538422.475</td>\n",
       "    </tr>\n",
       "    <tr>\n",
       "      <th>13786</th>\n",
       "      <td>64410</td>\n",
       "      <td>538422.475</td>\n",
       "    </tr>\n",
       "  </tbody>\n",
       "</table>\n",
       "<p>11929 rows × 2 columns</p>\n",
       "</div>"
      ],
      "text/plain": [
       "        actual   baseline\n",
       "88      921394 538422.475\n",
       "4837    156553 538422.475\n",
       "3411     57109 538422.475\n",
       "4426    665750 538422.475\n",
       "3969    750269 538422.475\n",
       "...        ...        ...\n",
       "14448   322000 538422.475\n",
       "6289    544000 538422.475\n",
       "9638   2191923 538422.475\n",
       "3021    105193 538422.475\n",
       "13786    64410 538422.475\n",
       "\n",
       "[11929 rows x 2 columns]"
      ]
     },
     "execution_count": 9,
     "metadata": {},
     "output_type": "execute_result"
    }
   ],
   "source": [
    "# Create predictions dataframe\n",
    "predictions = pd.DataFrame({\n",
    "    'actual': train.value,\n",
    "    'baseline': train.value.mean()\n",
    "})\n",
    "predictions"
   ]
  },
  {
   "cell_type": "code",
   "execution_count": 10,
   "metadata": {},
   "outputs": [],
   "source": [
    "# MVP model for comparison\n",
    "X_poly = train[['baths', 'beds', 'home_sf']]\n",
    "\n",
    "lm_poly = LinearRegression(normalize=False).fit(X_poly, y)\n",
    "predictions['poly'] = lm_poly.predict(X_poly)"
   ]
  },
  {
   "cell_type": "code",
   "execution_count": 11,
   "metadata": {},
   "outputs": [],
   "source": [
    "lm_poly2 = LinearRegression(normalize=False).fit(X, y)\n",
    "predictions['poly2'] = lm_poly2.predict(X)"
   ]
  },
  {
   "cell_type": "code",
   "execution_count": 12,
   "metadata": {},
   "outputs": [
    {
     "name": "stdout",
     "output_type": "stream",
     "text": [
      "['baths', 'is_extra']\n"
     ]
    }
   ],
   "source": [
    "# use RFE to select top 2\n",
    "model.select_rfe(X, y, 2)"
   ]
  },
  {
   "cell_type": "code",
   "execution_count": 14,
   "metadata": {},
   "outputs": [
    {
     "name": "stdout",
     "output_type": "stream",
     "text": [
      "['baths', 'is_extra', 'size_ratio']\n"
     ]
    }
   ],
   "source": [
    "# use RFE to select top 3\n",
    "model.select_rfe(X, y, 3)"
   ]
  },
  {
   "cell_type": "code",
   "execution_count": 15,
   "metadata": {},
   "outputs": [
    {
     "name": "stdout",
     "output_type": "stream",
     "text": [
      "['baths', 'beds', 'is_extra', 'size_ratio']\n"
     ]
    }
   ],
   "source": [
    "# use RFE to select top 4\n",
    "model.select_rfe(X, y, 4)"
   ]
  },
  {
   "cell_type": "code",
   "execution_count": 16,
   "metadata": {},
   "outputs": [
    {
     "name": "stdout",
     "output_type": "stream",
     "text": [
      "['baths', 'beds', 'home_sf', 'is_extra', 'size_ratio']\n"
     ]
    }
   ],
   "source": [
    "# use RFE to select top 5\n",
    "model.select_rfe(X, y, 5)"
   ]
  },
  {
   "cell_type": "code",
   "execution_count": 17,
   "metadata": {},
   "outputs": [],
   "source": [
    "X_rfe2 = train[['baths', 'is_extra']]\n",
    "\n",
    "lm_rfe = LinearRegression(normalize=False).fit(X_rfe2, y)\n",
    "predictions['rfe2'] = lm_rfe.predict(X_rfe2)"
   ]
  },
  {
   "cell_type": "code",
   "execution_count": 18,
   "metadata": {},
   "outputs": [],
   "source": [
    "X_rfe3 = train[['baths', 'is_extra', 'size_ratio']]\n",
    "\n",
    "lm_rfe3 = LinearRegression(normalize=False).fit(X_rfe3, y)\n",
    "predictions['rfe3'] = lm_rfe3.predict(X_rfe3)"
   ]
  },
  {
   "cell_type": "code",
   "execution_count": null,
   "metadata": {},
   "outputs": [],
   "source": [
    "X_rfe4 = train[['baths', 'beds', 'is_extra', 'size_ratio']]\n",
    "\n",
    "lm_rfe4 = LinearRegression(normalize=False).fit(X_rfe4, y)\n",
    "predictions['rfe4'] = lm_rfe4.predict(X_rfe4)"
   ]
  },
  {
   "cell_type": "code",
   "execution_count": null,
   "metadata": {},
   "outputs": [],
   "source": [
    "X_rfe4 = train[['baths', 'beds', 'is_extra', 'size_ratio']]\n",
    "\n",
    "lm_rfe4 = LinearRegression(normalize=False).fit(X_rfe4, y)\n",
    "predictions['rfe4'] = lm_rfe4.predict(X_rfe4)"
   ]
  },
  {
   "cell_type": "code",
   "execution_count": null,
   "metadata": {},
   "outputs": [],
   "source": [
    "# But given the correlations, I think sq feet is more important than bedrooms\n",
    "X_corr = train[['bathrooms', 'square_feet']]\n",
    "\n",
    "lm_corr = LinearRegression(normalize=False).fit(X_corr, y)\n",
    "predictions['corr'] = lm_corr.predict(X_corr)"
   ]
  },
  {
   "cell_type": "code",
   "execution_count": null,
   "metadata": {},
   "outputs": [],
   "source": [
    "# make an ols model with all 3\n",
    "ols_model = ols('value ~ bathrooms + bedrooms + square_feet', data=train).fit()\n",
    "predictions['ols'] = ols_model.predict(X)"
   ]
  },
  {
   "cell_type": "code",
   "execution_count": null,
   "metadata": {},
   "outputs": [],
   "source": [
    "predictions"
   ]
  },
  {
   "cell_type": "code",
   "execution_count": null,
   "metadata": {},
   "outputs": [],
   "source": [
    "# now set up the evaluation functions\n",
    "# I want the RMSE of each model"
   ]
  },
  {
   "cell_type": "code",
   "execution_count": null,
   "metadata": {},
   "outputs": [],
   "source": [
    "RMSE_bl = model.RMSE(predictions.actual, predictions.baseline)\n",
    "RMSE_bath = model.RMSE(predictions.actual, predictions.bath_lm)\n",
    "RMSE_bed = model.RMSE(predictions.actual, predictions.bed_lm)\n",
    "RMSE_sf = model.RMSE(predictions.actual, predictions.sf_lm)\n",
    "RMSE_poly = model.RMSE(predictions.actual, predictions.poly)\n",
    "RMSE_rfe = model.RMSE(predictions.actual, predictions.rfe)\n",
    "RMSE_corr = model.RMSE(predictions.actual, predictions['corr'])\n",
    "RMSE_ols = model.RMSE(predictions.actual, predictions.ols)"
   ]
  },
  {
   "cell_type": "code",
   "execution_count": null,
   "metadata": {},
   "outputs": [],
   "source": [
    "eval = pd.DataFrame(np.array(['baseline', 'bath', 'bed', 'sq_feet', 'poly', 'rfe', 'corr', 'ols']), columns=['models'])\n",
    "eval['model_errors'] = np.array([RMSE_bl, RMSE_bath, RMSE_bed, RMSE_sf, RMSE_poly, RMSE_rfe, RMSE_corr, RMSE_ols])\n",
    "\n",
    "eval.sort_values(by='model_errors')"
   ]
  },
  {
   "cell_type": "code",
   "execution_count": null,
   "metadata": {},
   "outputs": [],
   "source": [
    "# This means that the model made using all 3 values performs the best\n",
    "# Also, all models performed better than the baseline"
   ]
  },
  {
   "cell_type": "code",
   "execution_count": null,
   "metadata": {},
   "outputs": [],
   "source": [
    "# plot residuals\n",
    "plt.figure(figsize=(9, 9))\n",
    "\n",
    "sns.residplot(predictions.actual, predictions.bath_lm, color='pink')\n",
    "sns.residplot(predictions.actual, predictions.bed_lm, color='yellow')\n",
    "sns.residplot(predictions.actual, predictions.sf_lm, color='red')"
   ]
  },
  {
   "cell_type": "code",
   "execution_count": null,
   "metadata": {},
   "outputs": [],
   "source": [
    "# plot residuals\n",
    "plt.figure(figsize=(9, 9))\n",
    "\n",
    "sns.residplot(predictions.actual, predictions.poly, color='blue')\n",
    "sns.residplot(predictions.actual, predictions.rfe, color='green')\n",
    "sns.residplot(predictions.actual, predictions['corr'], color='purple')\n",
    "sns.residplot(predictions.actual, predictions.ols, color='orange')"
   ]
  },
  {
   "cell_type": "code",
   "execution_count": null,
   "metadata": {},
   "outputs": [],
   "source": []
  }
 ],
 "metadata": {
  "kernelspec": {
   "display_name": "Python 3",
   "language": "python",
   "name": "python3"
  },
  "language_info": {
   "codemirror_mode": {
    "name": "ipython",
    "version": 3
   },
   "file_extension": ".py",
   "mimetype": "text/x-python",
   "name": "python",
   "nbconvert_exporter": "python",
   "pygments_lexer": "ipython3",
   "version": "3.7.4"
  },
  "toc": {
   "base_numbering": 1,
   "nav_menu": {},
   "number_sections": true,
   "sideBar": true,
   "skip_h1_title": false,
   "title_cell": "Table of Contents",
   "title_sidebar": "Contents",
   "toc_cell": false,
   "toc_position": {},
   "toc_section_display": true,
   "toc_window_display": false
  }
 },
 "nbformat": 4,
 "nbformat_minor": 2
}
