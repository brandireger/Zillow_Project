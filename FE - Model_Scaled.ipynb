{
 "cells": [
  {
   "cell_type": "code",
   "execution_count": 1,
   "metadata": {},
   "outputs": [],
   "source": [
    "import numpy as np\n",
    "import pandas as pd\n",
    "pd.options.display.float_format = '{:.3f}'.format\n",
    "import matplotlib.pyplot as plt\n",
    "%matplotlib inline\n",
    "import seaborn as sns\n",
    "from sklearn.metrics import mean_squared_error\n",
    "from sklearn.linear_model import LinearRegression\n",
    "from sklearn.feature_selection import RFE\n",
    "from sklearn.preprocessing import PolynomialFeatures\n",
    "from statsmodels.formula.api import ols\n",
    "from math import sqrt\n",
    "import warnings\n",
    "warnings.filterwarnings(\"ignore\")\n",
    "\n",
    "import model\n",
    "import split_scale"
   ]
  },
  {
   "cell_type": "code",
   "execution_count": 2,
   "metadata": {},
   "outputs": [],
   "source": [
    "zillow = pd.read_csv('zillow_FE.csv')\n",
    "zillow = zillow.drop(columns=['county', 'state'])"
   ]
  },
  {
   "cell_type": "code",
   "execution_count": 3,
   "metadata": {},
   "outputs": [
    {
     "data": {
      "text/html": [
       "<div>\n",
       "<style scoped>\n",
       "    .dataframe tbody tr th:only-of-type {\n",
       "        vertical-align: middle;\n",
       "    }\n",
       "\n",
       "    .dataframe tbody tr th {\n",
       "        vertical-align: top;\n",
       "    }\n",
       "\n",
       "    .dataframe thead th {\n",
       "        text-align: right;\n",
       "    }\n",
       "</style>\n",
       "<table border=\"1\" class=\"dataframe\">\n",
       "  <thead>\n",
       "    <tr style=\"text-align: right;\">\n",
       "      <th></th>\n",
       "      <th>Unnamed: 0</th>\n",
       "      <th>index</th>\n",
       "      <th>parcelid</th>\n",
       "      <th>neighborhood</th>\n",
       "      <th>value</th>\n",
       "      <th>baths</th>\n",
       "      <th>beds</th>\n",
       "      <th>home_sf</th>\n",
       "      <th>is_extra</th>\n",
       "      <th>tax_rate</th>\n",
       "      <th>size_ratio</th>\n",
       "      <th>factor</th>\n",
       "      <th>sq_feet_proxy6</th>\n",
       "    </tr>\n",
       "  </thead>\n",
       "  <tbody>\n",
       "    <tr>\n",
       "      <th>88</th>\n",
       "      <td>88</td>\n",
       "      <td>137</td>\n",
       "      <td>17129832</td>\n",
       "      <td>0</td>\n",
       "      <td>425115</td>\n",
       "      <td>3.000</td>\n",
       "      <td>6</td>\n",
       "      <td>2901</td>\n",
       "      <td>0</td>\n",
       "      <td>0.011</td>\n",
       "      <td>0.395</td>\n",
       "      <td>309.836</td>\n",
       "      <td>9.363</td>\n",
       "    </tr>\n",
       "    <tr>\n",
       "      <th>4837</th>\n",
       "      <td>4837</td>\n",
       "      <td>7581</td>\n",
       "      <td>17227544</td>\n",
       "      <td>0</td>\n",
       "      <td>614179</td>\n",
       "      <td>2.000</td>\n",
       "      <td>4</td>\n",
       "      <td>2402</td>\n",
       "      <td>1</td>\n",
       "      <td>0.012</td>\n",
       "      <td>0.293</td>\n",
       "      <td>309.836</td>\n",
       "      <td>7.752</td>\n",
       "    </tr>\n",
       "    <tr>\n",
       "      <th>3411</th>\n",
       "      <td>3411</td>\n",
       "      <td>5359</td>\n",
       "      <td>11346241</td>\n",
       "      <td>0</td>\n",
       "      <td>466643</td>\n",
       "      <td>3.000</td>\n",
       "      <td>4</td>\n",
       "      <td>2557</td>\n",
       "      <td>1</td>\n",
       "      <td>0.015</td>\n",
       "      <td>0.414</td>\n",
       "      <td>309.836</td>\n",
       "      <td>8.253</td>\n",
       "    </tr>\n",
       "    <tr>\n",
       "      <th>4426</th>\n",
       "      <td>4426</td>\n",
       "      <td>6933</td>\n",
       "      <td>11216731</td>\n",
       "      <td>0</td>\n",
       "      <td>202444</td>\n",
       "      <td>2.000</td>\n",
       "      <td>3</td>\n",
       "      <td>1503</td>\n",
       "      <td>0</td>\n",
       "      <td>0.021</td>\n",
       "      <td>0.193</td>\n",
       "      <td>309.836</td>\n",
       "      <td>4.851</td>\n",
       "    </tr>\n",
       "    <tr>\n",
       "      <th>3969</th>\n",
       "      <td>3969</td>\n",
       "      <td>6233</td>\n",
       "      <td>13063534</td>\n",
       "      <td>0</td>\n",
       "      <td>179911</td>\n",
       "      <td>1.000</td>\n",
       "      <td>3</td>\n",
       "      <td>1092</td>\n",
       "      <td>0</td>\n",
       "      <td>0.013</td>\n",
       "      <td>0.181</td>\n",
       "      <td>309.836</td>\n",
       "      <td>3.524</td>\n",
       "    </tr>\n",
       "  </tbody>\n",
       "</table>\n",
       "</div>"
      ],
      "text/plain": [
       "      Unnamed: 0  index  parcelid  neighborhood   value  baths  beds  home_sf  \\\n",
       "88            88    137  17129832             0  425115  3.000     6     2901   \n",
       "4837        4837   7581  17227544             0  614179  2.000     4     2402   \n",
       "3411        3411   5359  11346241             0  466643  3.000     4     2557   \n",
       "4426        4426   6933  11216731             0  202444  2.000     3     1503   \n",
       "3969        3969   6233  13063534             0  179911  1.000     3     1092   \n",
       "\n",
       "      is_extra  tax_rate  size_ratio  factor  sq_feet_proxy6  \n",
       "88           0     0.011       0.395 309.836           9.363  \n",
       "4837         1     0.012       0.293 309.836           7.752  \n",
       "3411         1     0.015       0.414 309.836           8.253  \n",
       "4426         0     0.021       0.193 309.836           4.851  \n",
       "3969         0     0.013       0.181 309.836           3.524  "
      ]
     },
     "execution_count": 3,
     "metadata": {},
     "output_type": "execute_result"
    }
   ],
   "source": [
    "train, test = split_scale.split_my_data(zillow, 0.8)\n",
    "train.head()"
   ]
  },
  {
   "cell_type": "code",
   "execution_count": 4,
   "metadata": {},
   "outputs": [],
   "source": [
    "# Try out each of the scale functions, find the one that works best\n",
    "std_scaler, train_scaled_std, test_scaled_std = split_scale.standard_scaler(train, test)\n",
    "unf_scaler, train_scaled_unf, test_scaled_unf = split_scale.uniform_scaler(train, test)\n",
    "gs_scaler, train_scaled_gs, test_scaled_gs = split_scale.gaussian_scaler(train, test)\n",
    "mm_scaler, train_scaled_mm, test_scaled_mm = split_scale.min_max_scaler(train, test)\n",
    "iqr_scaler, train_scaled_iqr, test_scaled_iqr = split_scale.iqr_robust_scaler(train, test)"
   ]
  },
  {
   "cell_type": "code",
   "execution_count": 5,
   "metadata": {},
   "outputs": [],
   "source": [
    "# set up train features\n",
    "y = train[['value']]\n",
    "X_std = train_scaled_std[['baths', 'beds', 'home_sf', 'is_extra', 'size_ratio', 'sq_feet_proxy6']]\n",
    "X_unf = train_scaled_unf[['baths', 'beds', 'home_sf', 'is_extra', 'size_ratio', 'sq_feet_proxy6']]\n",
    "X_gs = train_scaled_gs[['baths', 'beds', 'home_sf', 'is_extra', 'size_ratio', 'sq_feet_proxy6']]\n",
    "X_mm = train_scaled_mm[['baths', 'beds', 'home_sf', 'is_extra', 'size_ratio', 'sq_feet_proxy6']]\n",
    "X_iqr = train_scaled_iqr[['baths', 'beds', 'home_sf', 'is_extra', 'size_ratio', 'sq_feet_proxy6']]"
   ]
  },
  {
   "cell_type": "code",
   "execution_count": 6,
   "metadata": {},
   "outputs": [],
   "source": [
    "# Create predictions dataframe\n",
    "predictions_std = pd.DataFrame({\n",
    "    'actual': train.value,\n",
    "    'baseline': train.value.mean()\n",
    "})\n",
    "predictions_unf = pd.DataFrame({\n",
    "    'actual': train.value,\n",
    "    'baseline': train.value.mean()\n",
    "})\n",
    "predictions_gs = pd.DataFrame({\n",
    "    'actual': train.value,\n",
    "    'baseline': train.value.mean()\n",
    "})\n",
    "predictions_mm = pd.DataFrame({\n",
    "    'actual': train.value,\n",
    "    'baseline': train.value.mean()\n",
    "})\n",
    "predictions_iqr = pd.DataFrame({\n",
    "    'actual': train.value,\n",
    "    'baseline': train.value.mean()\n",
    "})"
   ]
  },
  {
   "cell_type": "code",
   "execution_count": 7,
   "metadata": {},
   "outputs": [],
   "source": [
    "# MVP model for comparison\n",
    "X = train[['baths', 'beds', 'home_sf']]\n",
    "\n",
    "poly = PolynomialFeatures(degree=3)\n",
    "X_poly = poly.fit_transform(X)\n",
    "lm_poly = LinearRegression(normalize=False).fit(X_poly, y)\n",
    "\n",
    "predictions_std['MVP'] = lm_poly.predict(X_poly)\n",
    "predictions_unf['MVP'] = lm_poly.predict(X_poly)\n",
    "predictions_gs['MVP'] = lm_poly.predict(X_poly)\n",
    "predictions_mm['MVP'] = lm_poly.predict(X_poly)\n",
    "predictions_iqr['MVP'] = lm_poly.predict(X_poly)"
   ]
  },
  {
   "cell_type": "code",
   "execution_count": 8,
   "metadata": {},
   "outputs": [],
   "source": [
    "# Compare all features\n",
    "poly = PolynomialFeatures(degree=6)\n",
    "\n",
    "X_poly_std = poly.fit_transform(X_std)\n",
    "lm_all_std = LinearRegression(copy_X=True, fit_intercept=True, n_jobs=None, normalize=False).fit(X_std, y)\n",
    "predictions_std['all'] = lm_all_std.predict(X_std)\n",
    "\n",
    "X_poly_unf = poly.fit_transform(X_unf)\n",
    "lm_all_unf = LinearRegression(copy_X=True, fit_intercept=True, n_jobs=None, normalize=False).fit(X_unf, y)\n",
    "predictions_unf['all'] = lm_all_unf.predict(X_unf)\n",
    "\n",
    "X_poly_gs = poly.fit_transform(X_gs)\n",
    "lm_all_gs = LinearRegression(copy_X=True, fit_intercept=True, n_jobs=None, normalize=False).fit(X_gs, y)\n",
    "predictions_gs['all'] = lm_all_gs.predict(X_gs)\n",
    "\n",
    "X_poly_mm = poly.fit_transform(X_mm)\n",
    "lm_all_mm = LinearRegression(copy_X=True, fit_intercept=True, n_jobs=None, normalize=False).fit(X_mm, y)\n",
    "predictions_mm['all'] = lm_all_mm.predict(X_mm)\n",
    "\n",
    "X_poly_iqr = poly.fit_transform(X_iqr)\n",
    "lm_all_iqr = LinearRegression(copy_X=True, fit_intercept=True, n_jobs=None, normalize=False).fit(X_iqr, y)\n",
    "predictions_iqr['all'] = lm_all_iqr.predict(X_iqr)"
   ]
  },
  {
   "cell_type": "code",
   "execution_count": 9,
   "metadata": {},
   "outputs": [
    {
     "name": "stdout",
     "output_type": "stream",
     "text": [
      "['beds', 'home_sf']\n",
      "['baths', 'home_sf']\n",
      "['home_sf', 'is_extra']\n",
      "['beds', 'home_sf']\n",
      "['beds', 'home_sf']\n"
     ]
    },
    {
     "data": {
      "text/plain": [
       "(None, None, None, None, None)"
      ]
     },
     "execution_count": 9,
     "metadata": {},
     "output_type": "execute_result"
    }
   ],
   "source": [
    "# use RFE to select top 2\n",
    "model.select_rfe(X_std, y, 2), model.select_rfe(X_unf, y, 2), model.select_rfe(X_gs, y, 2), model.select_rfe(X_mm, y, 2), model.select_rfe(X_iqr, y, 2)"
   ]
  },
  {
   "cell_type": "code",
   "execution_count": 10,
   "metadata": {},
   "outputs": [],
   "source": [
    "X_rfe2_std = X_std[['beds', 'home_sf']]\n",
    "X_rfe2_unf = X_unf[['baths', 'home_sf']]\n",
    "X_rfe2_gs = X_gs[['home_sf', 'is_extra']]\n",
    "X_rfe2_mm = X_mm[['beds', 'home_sf']]\n",
    "X_rfe2_iqr = X_iqr[['beds', 'home_sf']]"
   ]
  },
  {
   "cell_type": "code",
   "execution_count": 11,
   "metadata": {},
   "outputs": [],
   "source": [
    "# Train rfe2 models\n",
    "poly = PolynomialFeatures(degree=2)\n",
    "\n",
    "X_poly_std = poly.fit_transform(X_rfe2_std)\n",
    "lm_rfe_std = LinearRegression(copy_X=True, fit_intercept=True, n_jobs=None, normalize=False).fit(X_poly_std, y)\n",
    "predictions_std['rfe2'] = lm_rfe_std.predict(X_poly_std)\n",
    "\n",
    "X_poly_unf = poly.fit_transform(X_rfe2_unf)\n",
    "lm_rfe_unf = LinearRegression(copy_X=True, fit_intercept=True, n_jobs=None, normalize=False).fit(X_poly_unf, y)\n",
    "predictions_unf['rfe2'] = lm_rfe_unf.predict(X_poly_unf)\n",
    "\n",
    "X_poly_gs = poly.fit_transform(X_rfe2_gs)\n",
    "lm_rfe_gs = LinearRegression(copy_X=True, fit_intercept=True, n_jobs=None, normalize=False).fit(X_poly_gs, y)\n",
    "predictions_gs['rfe2'] = lm_rfe_gs.predict(X_poly_gs)\n",
    "\n",
    "X_poly_mm = poly.fit_transform(X_rfe2_mm)\n",
    "lm_rfe_mm = LinearRegression(copy_X=True, fit_intercept=True, n_jobs=None, normalize=False).fit(X_poly_mm, y)\n",
    "predictions_mm['rfe2'] = lm_rfe_mm.predict(X_poly_mm)\n",
    "\n",
    "X_poly_iqr = poly.fit_transform(X_rfe2_iqr)\n",
    "lm_rfe_iqr = LinearRegression(copy_X=True, fit_intercept=True, n_jobs=None, normalize=False).fit(X_poly_iqr, y)\n",
    "predictions_iqr['rfe2'] = lm_rfe_iqr.predict(X_poly_iqr)"
   ]
  },
  {
   "cell_type": "code",
   "execution_count": 12,
   "metadata": {},
   "outputs": [
    {
     "name": "stdout",
     "output_type": "stream",
     "text": [
      "['beds', 'home_sf', 'sq_feet_proxy6']\n",
      "['baths', 'home_sf', 'sq_feet_proxy6']\n",
      "['home_sf', 'is_extra', 'size_ratio']\n",
      "['baths', 'beds', 'home_sf']\n",
      "['beds', 'home_sf', 'sq_feet_proxy6']\n"
     ]
    },
    {
     "data": {
      "text/plain": [
       "(None, None, None, None, None)"
      ]
     },
     "execution_count": 12,
     "metadata": {},
     "output_type": "execute_result"
    }
   ],
   "source": [
    "# use RFE to select top 3\n",
    "model.select_rfe(X_std, y, 3), model.select_rfe(X_unf, y, 3), model.select_rfe(X_gs, y, 3), model.select_rfe(X_mm, y, 3), model.select_rfe(X_iqr, y, 3)"
   ]
  },
  {
   "cell_type": "code",
   "execution_count": 13,
   "metadata": {},
   "outputs": [],
   "source": [
    "X_rfe3_std = X_std[['beds', 'home_sf', 'sq_feet_proxy6']]\n",
    "X_rfe3_unf = X_unf[['baths', 'home_sf', 'sq_feet_proxy6']]\n",
    "X_rfe3_gs = X_gs[['home_sf', 'is_extra', 'size_ratio']]\n",
    "X_rfe3_mm = X_mm[['baths', 'beds', 'home_sf']]\n",
    "X_rfe3_iqr = X_iqr[['beds', 'home_sf', 'sq_feet_proxy6']]"
   ]
  },
  {
   "cell_type": "code",
   "execution_count": 14,
   "metadata": {},
   "outputs": [],
   "source": [
    "# Train rfe3 models\n",
    "poly = PolynomialFeatures(degree=3)\n",
    "\n",
    "X_poly_std = poly.fit_transform(X_rfe3_std)\n",
    "lm_rfe_std = LinearRegression(copy_X=True, fit_intercept=True, n_jobs=None, normalize=False).fit(X_poly_std, y)\n",
    "predictions_std['rfe3'] = lm_rfe_std.predict(X_poly_std)\n",
    "\n",
    "X_poly_unf = poly.fit_transform(X_rfe3_unf)\n",
    "lm_rfe_unf = LinearRegression(copy_X=True, fit_intercept=True, n_jobs=None, normalize=False).fit(X_poly_unf, y)\n",
    "predictions_unf['rfe3'] = lm_rfe_unf.predict(X_poly_unf)\n",
    "\n",
    "X_poly_gs = poly.fit_transform(X_rfe3_gs)\n",
    "lm_rfe_gs = LinearRegression(copy_X=True, fit_intercept=True, n_jobs=None, normalize=False).fit(X_poly_gs, y)\n",
    "predictions_gs['rfe3'] = lm_rfe_gs.predict(X_poly_gs)\n",
    "\n",
    "X_poly_mm = poly.fit_transform(X_rfe3_mm)\n",
    "lm_rfe_mm = LinearRegression(copy_X=True, fit_intercept=True, n_jobs=None, normalize=False).fit(X_poly_mm, y)\n",
    "predictions_mm['rfe3'] = lm_rfe_mm.predict(X_poly_mm)\n",
    "\n",
    "X_poly_iqr = poly.fit_transform(X_rfe3_iqr)\n",
    "lm_rfe_iqr = LinearRegression(copy_X=True, fit_intercept=True, n_jobs=None, normalize=False).fit(X_poly_iqr, y)\n",
    "predictions_iqr['rfe3'] = lm_rfe_iqr.predict(X_poly_iqr)"
   ]
  },
  {
   "cell_type": "code",
   "execution_count": 15,
   "metadata": {},
   "outputs": [
    {
     "name": "stdout",
     "output_type": "stream",
     "text": [
      "['baths', 'beds', 'home_sf', 'sq_feet_proxy6']\n",
      "['baths', 'beds', 'home_sf', 'sq_feet_proxy6']\n",
      "['baths', 'home_sf', 'is_extra', 'size_ratio']\n",
      "['baths', 'beds', 'home_sf', 'sq_feet_proxy6']\n",
      "['baths', 'beds', 'home_sf', 'sq_feet_proxy6']\n"
     ]
    },
    {
     "data": {
      "text/plain": [
       "(None, None, None, None, None)"
      ]
     },
     "execution_count": 15,
     "metadata": {},
     "output_type": "execute_result"
    }
   ],
   "source": [
    "# use RFE to select top 4\n",
    "model.select_rfe(X_std, y, 4), model.select_rfe(X_unf, y, 4), model.select_rfe(X_gs, y, 4), model.select_rfe(X_mm, y, 4), model.select_rfe(X_iqr, y, 4)"
   ]
  },
  {
   "cell_type": "code",
   "execution_count": 16,
   "metadata": {},
   "outputs": [],
   "source": [
    "X_rfe4_std = X_std[['baths', 'beds', 'home_sf', 'sq_feet_proxy6']]\n",
    "X_rfe4_unf = X_unf[['baths', 'beds', 'home_sf', 'sq_feet_proxy6']]\n",
    "X_rfe4_gs = X_gs[['baths', 'home_sf', 'is_extra', 'size_ratio']]\n",
    "X_rfe4_mm = X_mm[['baths', 'beds', 'home_sf', 'sq_feet_proxy6']]\n",
    "X_rfe4_iqr = X_iqr[['baths', 'beds', 'home_sf', 'sq_feet_proxy6']]"
   ]
  },
  {
   "cell_type": "code",
   "execution_count": 17,
   "metadata": {},
   "outputs": [],
   "source": [
    "# Train rfe4 models\n",
    "poly = PolynomialFeatures(degree=4)\n",
    "\n",
    "X_poly_std = poly.fit_transform(X_rfe4_std)\n",
    "lm_rfe_std = LinearRegression(copy_X=True, fit_intercept=True, n_jobs=None, normalize=False).fit(X_poly_std, y)\n",
    "predictions_std['rfe4'] = lm_rfe_std.predict(X_poly_std)\n",
    "\n",
    "X_poly_unf = poly.fit_transform(X_rfe4_unf)\n",
    "lm_rfe_unf = LinearRegression(copy_X=True, fit_intercept=True, n_jobs=None, normalize=False).fit(X_poly_unf, y)\n",
    "predictions_unf['rfe4'] = lm_rfe_unf.predict(X_poly_unf)\n",
    "\n",
    "X_poly_gs = poly.fit_transform(X_rfe4_gs)\n",
    "lm_rfe_gs = LinearRegression(copy_X=True, fit_intercept=True, n_jobs=None, normalize=False).fit(X_poly_gs, y)\n",
    "predictions_gs['rfe4'] = lm_rfe_gs.predict(X_poly_gs)\n",
    "\n",
    "X_poly_mm = poly.fit_transform(X_rfe4_mm)\n",
    "lm_rfe_mm = LinearRegression(copy_X=True, fit_intercept=True, n_jobs=None, normalize=False).fit(X_poly_mm, y)\n",
    "predictions_mm['rfe4'] = lm_rfe_mm.predict(X_poly_mm)\n",
    "\n",
    "X_poly_iqr = poly.fit_transform(X_rfe4_iqr)\n",
    "lm_rfe_iqr = LinearRegression(copy_X=True, fit_intercept=True, n_jobs=None, normalize=False).fit(X_poly_iqr, y)\n",
    "predictions_iqr['rfe4'] = lm_rfe_iqr.predict(X_poly_iqr)"
   ]
  },
  {
   "cell_type": "code",
   "execution_count": 18,
   "metadata": {},
   "outputs": [
    {
     "name": "stdout",
     "output_type": "stream",
     "text": [
      "['baths', 'beds', 'home_sf', 'size_ratio', 'sq_feet_proxy6']\n",
      "['baths', 'beds', 'home_sf', 'is_extra', 'sq_feet_proxy6']\n",
      "['baths', 'beds', 'home_sf', 'is_extra', 'size_ratio']\n",
      "['baths', 'beds', 'home_sf', 'size_ratio', 'sq_feet_proxy6']\n",
      "['baths', 'beds', 'home_sf', 'size_ratio', 'sq_feet_proxy6']\n"
     ]
    },
    {
     "data": {
      "text/plain": [
       "(None, None, None, None, None)"
      ]
     },
     "execution_count": 18,
     "metadata": {},
     "output_type": "execute_result"
    }
   ],
   "source": [
    "# use RFE to select top 5\n",
    "model.select_rfe(X_std, y, 5), model.select_rfe(X_unf, y, 5), model.select_rfe(X_gs, y, 5), model.select_rfe(X_mm, y, 5), model.select_rfe(X_iqr, y, 5)"
   ]
  },
  {
   "cell_type": "code",
   "execution_count": 19,
   "metadata": {},
   "outputs": [],
   "source": [
    "X_rfe5_std = X_std[['baths', 'beds', 'home_sf', 'size_ratio', 'sq_feet_proxy6']]\n",
    "X_rfe5_unf = X_unf[['baths', 'beds', 'home_sf', 'is_extra', 'sq_feet_proxy6']]\n",
    "X_rfe5_gs = X_gs[['baths', 'beds', 'home_sf', 'is_extra', 'sq_feet_proxy6']]\n",
    "X_rfe5_mm = X_mm[['baths', 'beds', 'home_sf', 'size_ratio', 'sq_feet_proxy6']]\n",
    "X_rfe5_iqr = X_iqr[['baths', 'beds', 'home_sf', 'size_ratio', 'sq_feet_proxy6']]"
   ]
  },
  {
   "cell_type": "code",
   "execution_count": 20,
   "metadata": {},
   "outputs": [],
   "source": [
    "# Train rfe5 models\n",
    "poly = PolynomialFeatures(degree=5)\n",
    "\n",
    "X_poly_std = poly.fit_transform(X_rfe5_std)\n",
    "lm_rfe_std = LinearRegression(copy_X=True, fit_intercept=True, n_jobs=None, normalize=False).fit(X_poly_std, y)\n",
    "predictions_std['rfe5'] = lm_rfe_std.predict(X_poly_std)\n",
    "\n",
    "X_poly_unf = poly.fit_transform(X_rfe5_unf)\n",
    "lm_rfe_unf = LinearRegression(copy_X=True, fit_intercept=True, n_jobs=None, normalize=False).fit(X_poly_unf, y)\n",
    "predictions_unf['rfe5'] = lm_rfe_unf.predict(X_poly_unf)\n",
    "\n",
    "X_poly_gs = poly.fit_transform(X_rfe5_gs)\n",
    "lm_rfe_gs = LinearRegression(copy_X=True, fit_intercept=True, n_jobs=None, normalize=False).fit(X_poly_gs, y)\n",
    "predictions_gs['rfe5'] = lm_rfe_gs.predict(X_poly_gs)\n",
    "\n",
    "X_poly_mm = poly.fit_transform(X_rfe5_mm)\n",
    "lm_rfe_mm = LinearRegression(copy_X=True, fit_intercept=True, n_jobs=None, normalize=False).fit(X_poly_mm, y)\n",
    "predictions_mm['rfe5'] = lm_rfe_mm.predict(X_poly_mm)\n",
    "\n",
    "X_poly_iqr = poly.fit_transform(X_rfe5_iqr)\n",
    "lm_rfe_iqr = LinearRegression(copy_X=True, fit_intercept=True, n_jobs=None, normalize=False).fit(X_poly_iqr, y)\n",
    "predictions_iqr['rfe5'] = lm_rfe_iqr.predict(X_poly_iqr)"
   ]
  },
  {
   "cell_type": "code",
   "execution_count": 21,
   "metadata": {},
   "outputs": [
    {
     "data": {
      "text/html": [
       "<div>\n",
       "<style scoped>\n",
       "    .dataframe tbody tr th:only-of-type {\n",
       "        vertical-align: middle;\n",
       "    }\n",
       "\n",
       "    .dataframe tbody tr th {\n",
       "        vertical-align: top;\n",
       "    }\n",
       "\n",
       "    .dataframe thead th {\n",
       "        text-align: right;\n",
       "    }\n",
       "</style>\n",
       "<table border=\"1\" class=\"dataframe\">\n",
       "  <thead>\n",
       "    <tr style=\"text-align: right;\">\n",
       "      <th></th>\n",
       "      <th>actual</th>\n",
       "      <th>baseline</th>\n",
       "      <th>MVP</th>\n",
       "      <th>all</th>\n",
       "      <th>rfe2</th>\n",
       "      <th>rfe3</th>\n",
       "      <th>rfe4</th>\n",
       "      <th>rfe5</th>\n",
       "    </tr>\n",
       "  </thead>\n",
       "  <tbody>\n",
       "    <tr>\n",
       "      <th>88</th>\n",
       "      <td>425115</td>\n",
       "      <td>540205.597</td>\n",
       "      <td>493163.828</td>\n",
       "      <td>605164.197</td>\n",
       "      <td>690028.941</td>\n",
       "      <td>607784.171</td>\n",
       "      <td>400785.869</td>\n",
       "      <td>443579.525</td>\n",
       "    </tr>\n",
       "    <tr>\n",
       "      <th>4837</th>\n",
       "      <td>614179</td>\n",
       "      <td>540205.597</td>\n",
       "      <td>509488.192</td>\n",
       "      <td>607075.428</td>\n",
       "      <td>602324.610</td>\n",
       "      <td>514800.622</td>\n",
       "      <td>483635.352</td>\n",
       "      <td>425428.708</td>\n",
       "    </tr>\n",
       "    <tr>\n",
       "      <th>3411</th>\n",
       "      <td>466643</td>\n",
       "      <td>540205.597</td>\n",
       "      <td>588720.871</td>\n",
       "      <td>737558.460</td>\n",
       "      <td>671226.254</td>\n",
       "      <td>572495.509</td>\n",
       "      <td>596245.000</td>\n",
       "      <td>597636.937</td>\n",
       "    </tr>\n",
       "    <tr>\n",
       "      <th>4426</th>\n",
       "      <td>202444</td>\n",
       "      <td>540205.597</td>\n",
       "      <td>338692.110</td>\n",
       "      <td>327237.914</td>\n",
       "      <td>361889.221</td>\n",
       "      <td>344604.237</td>\n",
       "      <td>361512.483</td>\n",
       "      <td>292341.513</td>\n",
       "    </tr>\n",
       "    <tr>\n",
       "      <th>3969</th>\n",
       "      <td>179911</td>\n",
       "      <td>540205.597</td>\n",
       "      <td>282465.205</td>\n",
       "      <td>80547.351</td>\n",
       "      <td>247167.925</td>\n",
       "      <td>248081.207</td>\n",
       "      <td>252283.934</td>\n",
       "      <td>248067.038</td>\n",
       "    </tr>\n",
       "  </tbody>\n",
       "</table>\n",
       "</div>"
      ],
      "text/plain": [
       "      actual   baseline        MVP        all       rfe2       rfe3  \\\n",
       "88    425115 540205.597 493163.828 605164.197 690028.941 607784.171   \n",
       "4837  614179 540205.597 509488.192 607075.428 602324.610 514800.622   \n",
       "3411  466643 540205.597 588720.871 737558.460 671226.254 572495.509   \n",
       "4426  202444 540205.597 338692.110 327237.914 361889.221 344604.237   \n",
       "3969  179911 540205.597 282465.205  80547.351 247167.925 248081.207   \n",
       "\n",
       "           rfe4       rfe5  \n",
       "88   400785.869 443579.525  \n",
       "4837 483635.352 425428.708  \n",
       "3411 596245.000 597636.937  \n",
       "4426 361512.483 292341.513  \n",
       "3969 252283.934 248067.038  "
      ]
     },
     "execution_count": 21,
     "metadata": {},
     "output_type": "execute_result"
    }
   ],
   "source": [
    "predictions_std.head()"
   ]
  },
  {
   "cell_type": "code",
   "execution_count": 22,
   "metadata": {},
   "outputs": [],
   "source": [
    "# now set up the evaluation functions\n",
    "# I want the RMSE of each model"
   ]
  },
  {
   "cell_type": "code",
   "execution_count": 34,
   "metadata": {},
   "outputs": [],
   "source": [
    "# std predictions\n",
    "RMSE_bl_std = model.RMSE(predictions_std.actual, predictions_std.baseline)\n",
    "RMSE_MVP_std = model.RMSE(predictions_std.actual, predictions_std.MVP)\n",
    "RMSE_all_std = model.RMSE(predictions_std.actual, predictions_std['all'])\n",
    "RMSE_rfe2_std = model.RMSE(predictions_std.actual, predictions_std.rfe2)\n",
    "RMSE_rfe3_std = model.RMSE(predictions_std.actual, predictions_std.rfe3)\n",
    "RMSE_rfe4_std = model.RMSE(predictions_std.actual, predictions_std.rfe4)\n",
    "RMSE_rfe5_std = model.RMSE(predictions_std.actual, predictions_std.rfe5)\n",
    "\n",
    "# evaluation df\n",
    "eval_std = pd.DataFrame(np.array(['baseline', 'MVP', 'all', 'rfe2', 'rfe3', 'rfe4', 'rfe5']), columns=['models'])\n",
    "eval_std['model_errors'] = np.array([RMSE_bl_std, RMSE_MVP_std, RMSE_all_std, RMSE_rfe2_std, RMSE_rfe3_std, RMSE_rfe4_std, RMSE_rfe5_std])"
   ]
  },
  {
   "cell_type": "code",
   "execution_count": 35,
   "metadata": {},
   "outputs": [],
   "source": [
    "# unf predictions\n",
    "RMSE_bl_unf = model.RMSE(predictions_unf.actual, predictions_unf.baseline)\n",
    "RMSE_MVP_unf = model.RMSE(predictions_unf.actual, predictions_unf.MVP)\n",
    "RMSE_all_unf = model.RMSE(predictions_unf.actual, predictions_unf['all'])\n",
    "RMSE_rfe2_unf = model.RMSE(predictions_unf.actual, predictions_unf.rfe2)\n",
    "RMSE_rfe3_unf = model.RMSE(predictions_unf.actual, predictions_unf.rfe3)\n",
    "RMSE_rfe4_unf = model.RMSE(predictions_unf.actual, predictions_unf.rfe4)\n",
    "RMSE_rfe5_unf = model.RMSE(predictions_unf.actual, predictions_unf.rfe5)\n",
    "\n",
    "# evaluation df\n",
    "eval_unf = pd.DataFrame(np.array(['baseline', 'MVP', 'all', 'rfe2', 'rfe3', 'rfe4', 'rfe5']), columns=['models'])\n",
    "eval_unf['model_errors'] = np.array([RMSE_bl_unf, RMSE_MVP_unf, RMSE_all_unf, RMSE_rfe2_unf, RMSE_rfe3_unf, RMSE_rfe4_unf, RMSE_rfe5_unf])"
   ]
  },
  {
   "cell_type": "code",
   "execution_count": 36,
   "metadata": {},
   "outputs": [],
   "source": [
    "# gs predictions\n",
    "RMSE_bl_gs = model.RMSE(predictions_gs.actual, predictions_gs.baseline)\n",
    "RMSE_MVP_gs = model.RMSE(predictions_gs.actual, predictions_gs.MVP)\n",
    "RMSE_all_gs = model.RMSE(predictions_gs.actual, predictions_gs['all'])\n",
    "RMSE_rfe2_gs = model.RMSE(predictions_gs.actual, predictions_gs.rfe2)\n",
    "RMSE_rfe3_gs = model.RMSE(predictions_gs.actual, predictions_gs.rfe3)\n",
    "RMSE_rfe4_gs = model.RMSE(predictions_gs.actual, predictions_gs.rfe4)\n",
    "RMSE_rfe5_gs = model.RMSE(predictions_gs.actual, predictions_gs.rfe5)\n",
    "\n",
    "# evaluation df\n",
    "eval_gs = pd.DataFrame(np.array(['baseline', 'MVP', 'all', 'rfe2', 'rfe3', 'rfe4', 'rfe5']), columns=['models'])\n",
    "eval_gs['model_errors'] = np.array([RMSE_bl_gs, RMSE_MVP_gs, RMSE_all_gs, RMSE_rfe2_gs, RMSE_rfe3_gs, RMSE_rfe4_gs, RMSE_rfe5_gs])"
   ]
  },
  {
   "cell_type": "code",
   "execution_count": 37,
   "metadata": {},
   "outputs": [],
   "source": [
    "# mm predictions\n",
    "RMSE_bl_mm = model.RMSE(predictions_mm.actual, predictions_mm.baseline)\n",
    "RMSE_MVP_mm = model.RMSE(predictions_mm.actual, predictions_mm.MVP)\n",
    "RMSE_all_mm = model.RMSE(predictions_mm.actual, predictions_mm['all'])\n",
    "RMSE_rfe2_mm = model.RMSE(predictions_mm.actual, predictions_mm.rfe2)\n",
    "RMSE_rfe3_mm = model.RMSE(predictions_mm.actual, predictions_mm.rfe3)\n",
    "RMSE_rfe4_mm = model.RMSE(predictions_mm.actual, predictions_mm.rfe4)\n",
    "RMSE_rfe5_mm = model.RMSE(predictions_mm.actual, predictions_mm.rfe5)\n",
    "\n",
    "# evaluation df\n",
    "eval_mm = pd.DataFrame(np.array(['baseline', 'MVP', 'all', 'rfe2', 'rfe3', 'rfe4', 'rfe5']), columns=['models'])\n",
    "eval_mm['model_errors'] = np.array([RMSE_bl_mm, RMSE_MVP_mm, RMSE_all_mm, RMSE_rfe2_mm, RMSE_rfe3_mm, RMSE_rfe4_mm, RMSE_rfe5_mm])"
   ]
  },
  {
   "cell_type": "code",
   "execution_count": 38,
   "metadata": {},
   "outputs": [],
   "source": [
    "# iqr predictions\n",
    "RMSE_bl_iqr = model.RMSE(predictions_iqr.actual, predictions_iqr.baseline)\n",
    "RMSE_MVP_iqr = model.RMSE(predictions_iqr.actual, predictions_iqr.MVP)\n",
    "RMSE_all_iqr = model.RMSE(predictions_iqr.actual, predictions_iqr['all'])\n",
    "RMSE_rfe2_iqr = model.RMSE(predictions_iqr.actual, predictions_iqr.rfe2)\n",
    "RMSE_rfe3_iqr = model.RMSE(predictions_iqr.actual, predictions_iqr.rfe3)\n",
    "RMSE_rfe4_iqr = model.RMSE(predictions_iqr.actual, predictions_iqr.rfe4)\n",
    "RMSE_rfe5_iqr = model.RMSE(predictions_iqr.actual, predictions_iqr.rfe5)\n",
    "\n",
    "# evaluation df\n",
    "eval_iqr = pd.DataFrame(np.array(['baseline', 'MVP', 'all', 'rfe2', 'rfe3', 'rfe4', 'rfe5']), columns=['models'])\n",
    "eval_iqr['model_errors'] = np.array([RMSE_bl_iqr, RMSE_MVP_iqr, RMSE_all_iqr, RMSE_rfe2_iqr, RMSE_rfe3_iqr, RMSE_rfe4_iqr, RMSE_rfe5_iqr])"
   ]
  },
  {
   "cell_type": "code",
   "execution_count": 39,
   "metadata": {},
   "outputs": [
    {
     "data": {
      "text/html": [
       "<div>\n",
       "<style scoped>\n",
       "    .dataframe tbody tr th:only-of-type {\n",
       "        vertical-align: middle;\n",
       "    }\n",
       "\n",
       "    .dataframe tbody tr th {\n",
       "        vertical-align: top;\n",
       "    }\n",
       "\n",
       "    .dataframe thead th {\n",
       "        text-align: right;\n",
       "    }\n",
       "</style>\n",
       "<table border=\"1\" class=\"dataframe\">\n",
       "  <thead>\n",
       "    <tr style=\"text-align: right;\">\n",
       "      <th></th>\n",
       "      <th>models</th>\n",
       "      <th>model_errors</th>\n",
       "    </tr>\n",
       "  </thead>\n",
       "  <tbody>\n",
       "    <tr>\n",
       "      <th>6</th>\n",
       "      <td>rfe5</td>\n",
       "      <td>437567.212</td>\n",
       "    </tr>\n",
       "  </tbody>\n",
       "</table>\n",
       "</div>"
      ],
      "text/plain": [
       "  models  model_errors\n",
       "6   rfe5    437567.212"
      ]
     },
     "execution_count": 39,
     "metadata": {},
     "output_type": "execute_result"
    }
   ],
   "source": [
    "eval_std.sort_values(by='model_errors').head(1)"
   ]
  },
  {
   "cell_type": "code",
   "execution_count": 40,
   "metadata": {},
   "outputs": [
    {
     "data": {
      "text/html": [
       "<div>\n",
       "<style scoped>\n",
       "    .dataframe tbody tr th:only-of-type {\n",
       "        vertical-align: middle;\n",
       "    }\n",
       "\n",
       "    .dataframe tbody tr th {\n",
       "        vertical-align: top;\n",
       "    }\n",
       "\n",
       "    .dataframe thead th {\n",
       "        text-align: right;\n",
       "    }\n",
       "</style>\n",
       "<table border=\"1\" class=\"dataframe\">\n",
       "  <thead>\n",
       "    <tr style=\"text-align: right;\">\n",
       "      <th></th>\n",
       "      <th>models</th>\n",
       "      <th>model_errors</th>\n",
       "    </tr>\n",
       "  </thead>\n",
       "  <tbody>\n",
       "    <tr>\n",
       "      <th>1</th>\n",
       "      <td>MVP</td>\n",
       "      <td>549375.106</td>\n",
       "    </tr>\n",
       "  </tbody>\n",
       "</table>\n",
       "</div>"
      ],
      "text/plain": [
       "  models  model_errors\n",
       "1    MVP    549375.106"
      ]
     },
     "execution_count": 40,
     "metadata": {},
     "output_type": "execute_result"
    }
   ],
   "source": [
    "eval_unf.sort_values(by='model_errors').head(1)"
   ]
  },
  {
   "cell_type": "code",
   "execution_count": 41,
   "metadata": {},
   "outputs": [
    {
     "data": {
      "text/html": [
       "<div>\n",
       "<style scoped>\n",
       "    .dataframe tbody tr th:only-of-type {\n",
       "        vertical-align: middle;\n",
       "    }\n",
       "\n",
       "    .dataframe tbody tr th {\n",
       "        vertical-align: top;\n",
       "    }\n",
       "\n",
       "    .dataframe thead th {\n",
       "        text-align: right;\n",
       "    }\n",
       "</style>\n",
       "<table border=\"1\" class=\"dataframe\">\n",
       "  <thead>\n",
       "    <tr style=\"text-align: right;\">\n",
       "      <th></th>\n",
       "      <th>models</th>\n",
       "      <th>model_errors</th>\n",
       "    </tr>\n",
       "  </thead>\n",
       "  <tbody>\n",
       "    <tr>\n",
       "      <th>6</th>\n",
       "      <td>rfe5</td>\n",
       "      <td>500617.814</td>\n",
       "    </tr>\n",
       "  </tbody>\n",
       "</table>\n",
       "</div>"
      ],
      "text/plain": [
       "  models  model_errors\n",
       "6   rfe5    500617.814"
      ]
     },
     "execution_count": 41,
     "metadata": {},
     "output_type": "execute_result"
    }
   ],
   "source": [
    "eval_gs.sort_values(by='model_errors').head(1)"
   ]
  },
  {
   "cell_type": "code",
   "execution_count": 42,
   "metadata": {},
   "outputs": [
    {
     "data": {
      "text/html": [
       "<div>\n",
       "<style scoped>\n",
       "    .dataframe tbody tr th:only-of-type {\n",
       "        vertical-align: middle;\n",
       "    }\n",
       "\n",
       "    .dataframe tbody tr th {\n",
       "        vertical-align: top;\n",
       "    }\n",
       "\n",
       "    .dataframe thead th {\n",
       "        text-align: right;\n",
       "    }\n",
       "</style>\n",
       "<table border=\"1\" class=\"dataframe\">\n",
       "  <thead>\n",
       "    <tr style=\"text-align: right;\">\n",
       "      <th></th>\n",
       "      <th>models</th>\n",
       "      <th>model_errors</th>\n",
       "    </tr>\n",
       "  </thead>\n",
       "  <tbody>\n",
       "    <tr>\n",
       "      <th>6</th>\n",
       "      <td>rfe5</td>\n",
       "      <td>437567.214</td>\n",
       "    </tr>\n",
       "  </tbody>\n",
       "</table>\n",
       "</div>"
      ],
      "text/plain": [
       "  models  model_errors\n",
       "6   rfe5    437567.214"
      ]
     },
     "execution_count": 42,
     "metadata": {},
     "output_type": "execute_result"
    }
   ],
   "source": [
    "eval_mm.sort_values(by='model_errors').head(1)"
   ]
  },
  {
   "cell_type": "code",
   "execution_count": 43,
   "metadata": {},
   "outputs": [
    {
     "data": {
      "text/html": [
       "<div>\n",
       "<style scoped>\n",
       "    .dataframe tbody tr th:only-of-type {\n",
       "        vertical-align: middle;\n",
       "    }\n",
       "\n",
       "    .dataframe tbody tr th {\n",
       "        vertical-align: top;\n",
       "    }\n",
       "\n",
       "    .dataframe thead th {\n",
       "        text-align: right;\n",
       "    }\n",
       "</style>\n",
       "<table border=\"1\" class=\"dataframe\">\n",
       "  <thead>\n",
       "    <tr style=\"text-align: right;\">\n",
       "      <th></th>\n",
       "      <th>models</th>\n",
       "      <th>model_errors</th>\n",
       "    </tr>\n",
       "  </thead>\n",
       "  <tbody>\n",
       "    <tr>\n",
       "      <th>6</th>\n",
       "      <td>rfe5</td>\n",
       "      <td>437571.974</td>\n",
       "    </tr>\n",
       "  </tbody>\n",
       "</table>\n",
       "</div>"
      ],
      "text/plain": [
       "  models  model_errors\n",
       "6   rfe5    437571.974"
      ]
     },
     "execution_count": 43,
     "metadata": {},
     "output_type": "execute_result"
    }
   ],
   "source": [
    "eval_iqr.sort_values(by='model_errors').head(1)"
   ]
  },
  {
   "cell_type": "code",
   "execution_count": 33,
   "metadata": {},
   "outputs": [],
   "source": [
    "# The best performing scaled method is std & mm"
   ]
  },
  {
   "cell_type": "code",
   "execution_count": null,
   "metadata": {},
   "outputs": [],
   "source": []
  }
 ],
 "metadata": {
  "kernelspec": {
   "display_name": "Python 3",
   "language": "python",
   "name": "python3"
  },
  "language_info": {
   "codemirror_mode": {
    "name": "ipython",
    "version": 3
   },
   "file_extension": ".py",
   "mimetype": "text/x-python",
   "name": "python",
   "nbconvert_exporter": "python",
   "pygments_lexer": "ipython3",
   "version": "3.7.4"
  },
  "toc": {
   "base_numbering": 1,
   "nav_menu": {},
   "number_sections": true,
   "sideBar": true,
   "skip_h1_title": false,
   "title_cell": "Table of Contents",
   "title_sidebar": "Contents",
   "toc_cell": false,
   "toc_position": {},
   "toc_section_display": true,
   "toc_window_display": false
  }
 },
 "nbformat": 4,
 "nbformat_minor": 2
}
