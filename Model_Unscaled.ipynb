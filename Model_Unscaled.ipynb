{
 "cells": [
  {
   "cell_type": "code",
   "execution_count": 1,
   "metadata": {},
   "outputs": [],
   "source": [
    "import numpy as np\n",
    "import pandas as pd\n",
    "pd.options.display.float_format = '{:.3f}'.format\n",
    "import matplotlib.pyplot as plt\n",
    "%matplotlib inline\n",
    "import seaborn as sns\n",
    "from sklearn.metrics import mean_squared_error\n",
    "from sklearn.linear_model import LinearRegression\n",
    "from sklearn.feature_selection import RFE\n",
    "from sklearn.preprocessing import PolynomialFeatures, RobustScaler\n",
    "from statsmodels.formula.api import ols\n",
    "from math import sqrt\n",
    "import warnings\n",
    "warnings.filterwarnings(\"ignore\")\n",
    "\n",
    "import model"
   ]
  },
  {
   "cell_type": "code",
   "execution_count": 2,
   "metadata": {},
   "outputs": [],
   "source": [
    "train = pd.read_csv('train.csv')"
   ]
  },
  {
   "cell_type": "code",
   "execution_count": 3,
   "metadata": {},
   "outputs": [],
   "source": [
    "# We are trying to predict Value based on baths, beds and sq. ft\n",
    "y = train[['value']]\n",
    "X = train[['bathrooms', 'bedrooms', 'square_feet']]"
   ]
  },
  {
   "cell_type": "code",
   "execution_count": 4,
   "metadata": {},
   "outputs": [
    {
     "data": {
      "text/html": [
       "<div>\n",
       "<style scoped>\n",
       "    .dataframe tbody tr th:only-of-type {\n",
       "        vertical-align: middle;\n",
       "    }\n",
       "\n",
       "    .dataframe tbody tr th {\n",
       "        vertical-align: top;\n",
       "    }\n",
       "\n",
       "    .dataframe thead th {\n",
       "        text-align: right;\n",
       "    }\n",
       "</style>\n",
       "<table border=\"1\" class=\"dataframe\">\n",
       "  <thead>\n",
       "    <tr style=\"text-align: right;\">\n",
       "      <th></th>\n",
       "      <th>actual</th>\n",
       "      <th>baseline</th>\n",
       "    </tr>\n",
       "  </thead>\n",
       "  <tbody>\n",
       "    <tr>\n",
       "      <th>0</th>\n",
       "      <td>386909.000</td>\n",
       "      <td>540348.743</td>\n",
       "    </tr>\n",
       "    <tr>\n",
       "      <th>1</th>\n",
       "      <td>780000.000</td>\n",
       "      <td>540348.743</td>\n",
       "    </tr>\n",
       "    <tr>\n",
       "      <th>2</th>\n",
       "      <td>117583.000</td>\n",
       "      <td>540348.743</td>\n",
       "    </tr>\n",
       "    <tr>\n",
       "      <th>3</th>\n",
       "      <td>588770.000</td>\n",
       "      <td>540348.743</td>\n",
       "    </tr>\n",
       "    <tr>\n",
       "      <th>4</th>\n",
       "      <td>424532.000</td>\n",
       "      <td>540348.743</td>\n",
       "    </tr>\n",
       "    <tr>\n",
       "      <th>...</th>\n",
       "      <td>...</td>\n",
       "      <td>...</td>\n",
       "    </tr>\n",
       "    <tr>\n",
       "      <th>11986</th>\n",
       "      <td>221876.000</td>\n",
       "      <td>540348.743</td>\n",
       "    </tr>\n",
       "    <tr>\n",
       "      <th>11987</th>\n",
       "      <td>88594.000</td>\n",
       "      <td>540348.743</td>\n",
       "    </tr>\n",
       "    <tr>\n",
       "      <th>11988</th>\n",
       "      <td>461938.000</td>\n",
       "      <td>540348.743</td>\n",
       "    </tr>\n",
       "    <tr>\n",
       "      <th>11989</th>\n",
       "      <td>630544.000</td>\n",
       "      <td>540348.743</td>\n",
       "    </tr>\n",
       "    <tr>\n",
       "      <th>11990</th>\n",
       "      <td>185680.000</td>\n",
       "      <td>540348.743</td>\n",
       "    </tr>\n",
       "  </tbody>\n",
       "</table>\n",
       "<p>11991 rows × 2 columns</p>\n",
       "</div>"
      ],
      "text/plain": [
       "          actual   baseline\n",
       "0     386909.000 540348.743\n",
       "1     780000.000 540348.743\n",
       "2     117583.000 540348.743\n",
       "3     588770.000 540348.743\n",
       "4     424532.000 540348.743\n",
       "...          ...        ...\n",
       "11986 221876.000 540348.743\n",
       "11987  88594.000 540348.743\n",
       "11988 461938.000 540348.743\n",
       "11989 630544.000 540348.743\n",
       "11990 185680.000 540348.743\n",
       "\n",
       "[11991 rows x 2 columns]"
      ]
     },
     "execution_count": 4,
     "metadata": {},
     "output_type": "execute_result"
    }
   ],
   "source": [
    "# Create predictions dataframe\n",
    "predictions = pd.DataFrame({\n",
    "    'actual': train.value,\n",
    "    'baseline': train.value.mean()\n",
    "})\n",
    "predictions"
   ]
  },
  {
   "cell_type": "code",
   "execution_count": 5,
   "metadata": {},
   "outputs": [],
   "source": [
    "X_bath = train[['bathrooms']]\n",
    "\n",
    "lm_bath = LinearRegression().fit(X_bath, y)\n",
    "predictions['bath_lm'] = lm_bath.predict(X_bath)"
   ]
  },
  {
   "cell_type": "code",
   "execution_count": 6,
   "metadata": {},
   "outputs": [],
   "source": [
    "X_bed = train[['bedrooms']]\n",
    "\n",
    "lm_bed = LinearRegression().fit(X_bed, y)\n",
    "predictions['bed_lm'] = lm_bed.predict(X_bed)"
   ]
  },
  {
   "cell_type": "code",
   "execution_count": 7,
   "metadata": {},
   "outputs": [],
   "source": [
    "X_sf = train[['square_feet']]\n",
    "\n",
    "lm_sf = LinearRegression().fit(X_sf, y)\n",
    "predictions['sf_lm'] = lm_sf.predict(X_sf)"
   ]
  },
  {
   "cell_type": "code",
   "execution_count": 8,
   "metadata": {},
   "outputs": [],
   "source": [
    "X_poly = train[['bathrooms', 'bedrooms', 'square_feet']]\n",
    "\n",
    "lm_poly = LinearRegression().fit(X_poly, y)\n",
    "predictions['poly'] = lm_poly.predict(X_poly)"
   ]
  },
  {
   "cell_type": "code",
   "execution_count": 9,
   "metadata": {},
   "outputs": [
    {
     "name": "stdout",
     "output_type": "stream",
     "text": [
      "['bathrooms', 'bedrooms']\n"
     ]
    }
   ],
   "source": [
    "# use RFE to select top 2\n",
    "model.select_rfe(X_poly, y, 2)"
   ]
  },
  {
   "cell_type": "code",
   "execution_count": 10,
   "metadata": {},
   "outputs": [],
   "source": [
    "X_rfe = train[['bathrooms', 'bedrooms']]\n",
    "\n",
    "lm_rfe = LinearRegression().fit(X_rfe, y)\n",
    "predictions['rfe'] = lm_rfe.predict(X_rfe)"
   ]
  },
  {
   "cell_type": "code",
   "execution_count": 11,
   "metadata": {},
   "outputs": [],
   "source": [
    "# But given the correlations, I think sq feet is more important than bedrooms\n",
    "X_corr = train[['bathrooms', 'square_feet']]\n",
    "\n",
    "lm_corr = LinearRegression().fit(X_corr, y)\n",
    "predictions['corr'] = lm_corr.predict(X_corr)"
   ]
  },
  {
   "cell_type": "code",
   "execution_count": 12,
   "metadata": {},
   "outputs": [],
   "source": [
    "# make an ols model with all 3\n",
    "ols_model = ols('value ~ bathrooms + bedrooms + square_feet', data=train).fit()\n",
    "predictions['ols'] = ols_model.predict(X)"
   ]
  },
  {
   "cell_type": "code",
   "execution_count": 13,
   "metadata": {},
   "outputs": [
    {
     "data": {
      "text/html": [
       "<div>\n",
       "<style scoped>\n",
       "    .dataframe tbody tr th:only-of-type {\n",
       "        vertical-align: middle;\n",
       "    }\n",
       "\n",
       "    .dataframe tbody tr th {\n",
       "        vertical-align: top;\n",
       "    }\n",
       "\n",
       "    .dataframe thead th {\n",
       "        text-align: right;\n",
       "    }\n",
       "</style>\n",
       "<table border=\"1\" class=\"dataframe\">\n",
       "  <thead>\n",
       "    <tr style=\"text-align: right;\">\n",
       "      <th></th>\n",
       "      <th>actual</th>\n",
       "      <th>baseline</th>\n",
       "      <th>bath_lm</th>\n",
       "      <th>bed_lm</th>\n",
       "      <th>sf_lm</th>\n",
       "      <th>poly</th>\n",
       "      <th>rfe</th>\n",
       "      <th>corr</th>\n",
       "      <th>ols</th>\n",
       "    </tr>\n",
       "  </thead>\n",
       "  <tbody>\n",
       "    <tr>\n",
       "      <th>0</th>\n",
       "      <td>386909.000</td>\n",
       "      <td>540348.743</td>\n",
       "      <td>603893.417</td>\n",
       "      <td>688320.114</td>\n",
       "      <td>902648.361</td>\n",
       "      <td>845332.535</td>\n",
       "      <td>563197.807</td>\n",
       "      <td>899164.903</td>\n",
       "      <td>845332.535</td>\n",
       "    </tr>\n",
       "    <tr>\n",
       "      <th>1</th>\n",
       "      <td>780000.000</td>\n",
       "      <td>540348.743</td>\n",
       "      <td>47173.361</td>\n",
       "      <td>254923.752</td>\n",
       "      <td>289533.670</td>\n",
       "      <td>385061.410</td>\n",
       "      <td>84200.040</td>\n",
       "      <td>284273.322</td>\n",
       "      <td>385061.410</td>\n",
       "    </tr>\n",
       "    <tr>\n",
       "      <th>2</th>\n",
       "      <td>117583.000</td>\n",
       "      <td>540348.743</td>\n",
       "      <td>789466.769</td>\n",
       "      <td>688320.114</td>\n",
       "      <td>819663.795</td>\n",
       "      <td>782389.631</td>\n",
       "      <td>769537.549</td>\n",
       "      <td>820396.336</td>\n",
       "      <td>782389.631</td>\n",
       "    </tr>\n",
       "    <tr>\n",
       "      <th>3</th>\n",
       "      <td>588770.000</td>\n",
       "      <td>540348.743</td>\n",
       "      <td>789466.769</td>\n",
       "      <td>471621.933</td>\n",
       "      <td>500084.935</td>\n",
       "      <td>579163.012</td>\n",
       "      <td>839548.279</td>\n",
       "      <td>504847.524</td>\n",
       "      <td>579163.012</td>\n",
       "    </tr>\n",
       "    <tr>\n",
       "      <th>4</th>\n",
       "      <td>424532.000</td>\n",
       "      <td>540348.743</td>\n",
       "      <td>47173.361</td>\n",
       "      <td>254923.752</td>\n",
       "      <td>15419.758</td>\n",
       "      <td>86678.163</td>\n",
       "      <td>84200.040</td>\n",
       "      <td>13616.122</td>\n",
       "      <td>86678.163</td>\n",
       "    </tr>\n",
       "    <tr>\n",
       "      <th>...</th>\n",
       "      <td>...</td>\n",
       "      <td>...</td>\n",
       "      <td>...</td>\n",
       "      <td>...</td>\n",
       "      <td>...</td>\n",
       "      <td>...</td>\n",
       "      <td>...</td>\n",
       "      <td>...</td>\n",
       "      <td>...</td>\n",
       "    </tr>\n",
       "    <tr>\n",
       "      <th>11986</th>\n",
       "      <td>221876.000</td>\n",
       "      <td>540348.743</td>\n",
       "      <td>603893.417</td>\n",
       "      <td>688320.114</td>\n",
       "      <td>585717.945</td>\n",
       "      <td>500341.921</td>\n",
       "      <td>563197.807</td>\n",
       "      <td>586231.136</td>\n",
       "      <td>500341.921</td>\n",
       "    </tr>\n",
       "    <tr>\n",
       "      <th>11987</th>\n",
       "      <td>88594.000</td>\n",
       "      <td>540348.743</td>\n",
       "      <td>418320.065</td>\n",
       "      <td>471621.933</td>\n",
       "      <td>150931.789</td>\n",
       "      <td>144318.951</td>\n",
       "      <td>426868.795</td>\n",
       "      <td>153758.325</td>\n",
       "      <td>144318.951</td>\n",
       "    </tr>\n",
       "    <tr>\n",
       "      <th>11988</th>\n",
       "      <td>461938.000</td>\n",
       "      <td>540348.743</td>\n",
       "      <td>418320.065</td>\n",
       "      <td>471621.933</td>\n",
       "      <td>351772.094</td>\n",
       "      <td>362941.137</td>\n",
       "      <td>426868.795</td>\n",
       "      <td>352065.935</td>\n",
       "      <td>362941.137</td>\n",
       "    </tr>\n",
       "    <tr>\n",
       "      <th>11989</th>\n",
       "      <td>630544.000</td>\n",
       "      <td>540348.743</td>\n",
       "      <td>603893.417</td>\n",
       "      <td>471621.933</td>\n",
       "      <td>357951.796</td>\n",
       "      <td>397056.873</td>\n",
       "      <td>633208.537</td>\n",
       "      <td>361337.231</td>\n",
       "      <td>397056.873</td>\n",
       "    </tr>\n",
       "    <tr>\n",
       "      <th>11990</th>\n",
       "      <td>185680.000</td>\n",
       "      <td>540348.743</td>\n",
       "      <td>1160613.473</td>\n",
       "      <td>905018.295</td>\n",
       "      <td>959589.898</td>\n",
       "      <td>844835.302</td>\n",
       "      <td>1112206.304</td>\n",
       "      <td>964896.948</td>\n",
       "      <td>844835.302</td>\n",
       "    </tr>\n",
       "  </tbody>\n",
       "</table>\n",
       "<p>11991 rows × 9 columns</p>\n",
       "</div>"
      ],
      "text/plain": [
       "          actual   baseline     bath_lm     bed_lm      sf_lm       poly  \\\n",
       "0     386909.000 540348.743  603893.417 688320.114 902648.361 845332.535   \n",
       "1     780000.000 540348.743   47173.361 254923.752 289533.670 385061.410   \n",
       "2     117583.000 540348.743  789466.769 688320.114 819663.795 782389.631   \n",
       "3     588770.000 540348.743  789466.769 471621.933 500084.935 579163.012   \n",
       "4     424532.000 540348.743   47173.361 254923.752  15419.758  86678.163   \n",
       "...          ...        ...         ...        ...        ...        ...   \n",
       "11986 221876.000 540348.743  603893.417 688320.114 585717.945 500341.921   \n",
       "11987  88594.000 540348.743  418320.065 471621.933 150931.789 144318.951   \n",
       "11988 461938.000 540348.743  418320.065 471621.933 351772.094 362941.137   \n",
       "11989 630544.000 540348.743  603893.417 471621.933 357951.796 397056.873   \n",
       "11990 185680.000 540348.743 1160613.473 905018.295 959589.898 844835.302   \n",
       "\n",
       "              rfe       corr        ols  \n",
       "0      563197.807 899164.903 845332.535  \n",
       "1       84200.040 284273.322 385061.410  \n",
       "2      769537.549 820396.336 782389.631  \n",
       "3      839548.279 504847.524 579163.012  \n",
       "4       84200.040  13616.122  86678.163  \n",
       "...           ...        ...        ...  \n",
       "11986  563197.807 586231.136 500341.921  \n",
       "11987  426868.795 153758.325 144318.951  \n",
       "11988  426868.795 352065.935 362941.137  \n",
       "11989  633208.537 361337.231 397056.873  \n",
       "11990 1112206.304 964896.948 844835.302  \n",
       "\n",
       "[11991 rows x 9 columns]"
      ]
     },
     "execution_count": 13,
     "metadata": {},
     "output_type": "execute_result"
    }
   ],
   "source": [
    "predictions"
   ]
  },
  {
   "cell_type": "code",
   "execution_count": 14,
   "metadata": {},
   "outputs": [],
   "source": [
    "# now set up the evaluation functions\n",
    "# I want the RMSE of each model"
   ]
  },
  {
   "cell_type": "code",
   "execution_count": 15,
   "metadata": {},
   "outputs": [],
   "source": [
    "RMSE_bl = model.RMSE(predictions.actual, predictions.baseline)\n",
    "RMSE_bath = model.RMSE(predictions.actual, predictions.bath_lm)\n",
    "RMSE_bed = model.RMSE(predictions.actual, predictions.bed_lm)\n",
    "RMSE_sf = model.RMSE(predictions.actual, predictions.sf_lm)\n",
    "RMSE_poly = model.RMSE(predictions.actual, predictions.poly)\n",
    "RMSE_rfe = model.RMSE(predictions.actual, predictions.rfe)\n",
    "RMSE_corr = model.RMSE(predictions.actual, predictions['corr'])\n",
    "RMSE_ols = model.RMSE(predictions.actual, predictions.ols)"
   ]
  },
  {
   "cell_type": "code",
   "execution_count": 16,
   "metadata": {},
   "outputs": [
    {
     "data": {
      "text/html": [
       "<div>\n",
       "<style scoped>\n",
       "    .dataframe tbody tr th:only-of-type {\n",
       "        vertical-align: middle;\n",
       "    }\n",
       "\n",
       "    .dataframe tbody tr th {\n",
       "        vertical-align: top;\n",
       "    }\n",
       "\n",
       "    .dataframe thead th {\n",
       "        text-align: right;\n",
       "    }\n",
       "</style>\n",
       "<table border=\"1\" class=\"dataframe\">\n",
       "  <thead>\n",
       "    <tr style=\"text-align: right;\">\n",
       "      <th></th>\n",
       "      <th>models</th>\n",
       "      <th>model_errors</th>\n",
       "    </tr>\n",
       "  </thead>\n",
       "  <tbody>\n",
       "    <tr>\n",
       "      <th>4</th>\n",
       "      <td>poly</td>\n",
       "      <td>588589.536</td>\n",
       "    </tr>\n",
       "    <tr>\n",
       "      <th>7</th>\n",
       "      <td>ols</td>\n",
       "      <td>588589.536</td>\n",
       "    </tr>\n",
       "    <tr>\n",
       "      <th>6</th>\n",
       "      <td>corr</td>\n",
       "      <td>597338.495</td>\n",
       "    </tr>\n",
       "    <tr>\n",
       "      <th>3</th>\n",
       "      <td>sq_feet</td>\n",
       "      <td>597347.745</td>\n",
       "    </tr>\n",
       "    <tr>\n",
       "      <th>5</th>\n",
       "      <td>rfe</td>\n",
       "      <td>635651.971</td>\n",
       "    </tr>\n",
       "    <tr>\n",
       "      <th>1</th>\n",
       "      <td>bath</td>\n",
       "      <td>637657.044</td>\n",
       "    </tr>\n",
       "    <tr>\n",
       "      <th>2</th>\n",
       "      <td>bed</td>\n",
       "      <td>712699.608</td>\n",
       "    </tr>\n",
       "    <tr>\n",
       "      <th>0</th>\n",
       "      <td>baseline</td>\n",
       "      <td>741315.642</td>\n",
       "    </tr>\n",
       "  </tbody>\n",
       "</table>\n",
       "</div>"
      ],
      "text/plain": [
       "     models  model_errors\n",
       "4      poly    588589.536\n",
       "7       ols    588589.536\n",
       "6      corr    597338.495\n",
       "3   sq_feet    597347.745\n",
       "5       rfe    635651.971\n",
       "1      bath    637657.044\n",
       "2       bed    712699.608\n",
       "0  baseline    741315.642"
      ]
     },
     "execution_count": 16,
     "metadata": {},
     "output_type": "execute_result"
    }
   ],
   "source": [
    "eval = pd.DataFrame(np.array(['baseline', 'bath', 'bed', 'sq_feet', 'poly', 'rfe', 'corr', 'ols']), columns=['models'])\n",
    "eval['model_errors'] = np.array([RMSE_bl, RMSE_bath, RMSE_bed, RMSE_sf, RMSE_poly, RMSE_rfe, RMSE_corr, RMSE_ols])\n",
    "\n",
    "eval.sort_values(by='model_errors')"
   ]
  },
  {
   "cell_type": "code",
   "execution_count": 17,
   "metadata": {},
   "outputs": [],
   "source": [
    "# This means that the model made using all 3 values performs the best\n",
    "# Also, all models performed better than the baseline"
   ]
  },
  {
   "cell_type": "code",
   "execution_count": 29,
   "metadata": {},
   "outputs": [
    {
     "data": {
      "text/plain": [
       "<matplotlib.axes._subplots.AxesSubplot at 0x1261d4090>"
      ]
     },
     "execution_count": 29,
     "metadata": {},
     "output_type": "execute_result"
    },
    {
     "data": {
      "image/png": "[encoded data removed]",
      "text/plain": [
       "<Figure size 648x648 with 1 Axes>"
      ]
     },
     "metadata": {
      "needs_background": "light"
     },
     "output_type": "display_data"
    }
   ],
   "source": [
    "# plot residuals\n",
    "plt.figure(figsize=(9, 9))\n",
    "\n",
    "sns.residplot(predictions.actual, predictions.bath_lm, color='pink')\n",
    "sns.residplot(predictions.actual, predictions.bed_lm, color='yellow')\n",
    "sns.residplot(predictions.actual, predictions.sf_lm, color='red')"
   ]
  },
  {
   "cell_type": "code",
   "execution_count": 30,
   "metadata": {},
   "outputs": [
    {
     "data": {
      "text/plain": [
       "<matplotlib.axes._subplots.AxesSubplot at 0x120ea9c50>"
      ]
     },
     "execution_count": 30,
     "metadata": {},
     "output_type": "execute_result"
    },
    {
     "data": {
      "image/png": "[encoded data removed]",
      "text/plain": [
       "<Figure size 648x648 with 1 Axes>"
      ]
     },
     "metadata": {
      "needs_background": "light"
     },
     "output_type": "display_data"
    }
   ],
   "source": [
    "# plot residuals\n",
    "plt.figure(figsize=(9, 9))\n",
    "\n",
    "sns.residplot(predictions.actual, predictions.poly, color='blue')\n",
    "sns.residplot(predictions.actual, predictions.rfe, color='green')\n",
    "sns.residplot(predictions.actual, predictions['corr'], color='purple')\n",
    "sns.residplot(predictions.actual, predictions.ols, color='orange')"
   ]
  },
  {
   "cell_type": "code",
   "execution_count": null,
   "metadata": {},
   "outputs": [],
   "source": []
  }
 ],
 "metadata": {
  "kernelspec": {
   "display_name": "Python 3",
   "language": "python",
   "name": "python3"
  },
  "language_info": {
   "codemirror_mode": {
    "name": "ipython",
    "version": 3
   },
   "file_extension": ".py",
   "mimetype": "text/x-python",
   "name": "python",
   "nbconvert_exporter": "python",
   "pygments_lexer": "ipython3",
   "version": "3.7.4"
  },
  "toc": {
   "base_numbering": 1,
   "nav_menu": {},
   "number_sections": true,
   "sideBar": true,
   "skip_h1_title": false,
   "title_cell": "Table of Contents",
   "title_sidebar": "Contents",
   "toc_cell": false,
   "toc_position": {},
   "toc_section_display": true,
   "toc_window_display": false
  }
 },
 "nbformat": 4,
 "nbformat_minor": 2
}
