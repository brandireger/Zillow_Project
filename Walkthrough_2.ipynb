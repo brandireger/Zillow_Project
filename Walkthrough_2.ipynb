{
 "cells": [
  {
   "cell_type": "markdown",
   "metadata": {},
   "source": [
    "# Zillow Value Prediction pt 2\n",
    "\n",
    "## Split & Scale"
   ]
  },
  {
   "cell_type": "code",
   "execution_count": 46,
   "metadata": {},
   "outputs": [],
   "source": [
    "import numpy as np\n",
    "import pandas as pd\n",
    "pd.options.display.float_format = '{:.3f}'.format\n",
    "import math\n",
    "from sklearn.preprocessing import PolynomialFeatures\n",
    "from sklearn.linear_model import LinearRegression\n",
    "from sklearn.feature_selection import RFE\n",
    "import warnings\n",
    "warnings.filterwarnings(\"ignore\")\n",
    "import matplotlib.pyplot as plt\n",
    "%matplotlib inline\n",
    "import model\n",
    "import split_scale"
   ]
  },
  {
   "cell_type": "code",
   "execution_count": 2,
   "metadata": {},
   "outputs": [
    {
     "data": {
      "text/html": [
       "<div>\n",
       "<style scoped>\n",
       "    .dataframe tbody tr th:only-of-type {\n",
       "        vertical-align: middle;\n",
       "    }\n",
       "\n",
       "    .dataframe tbody tr th {\n",
       "        vertical-align: top;\n",
       "    }\n",
       "\n",
       "    .dataframe thead th {\n",
       "        text-align: right;\n",
       "    }\n",
       "</style>\n",
       "<table border=\"1\" class=\"dataframe\">\n",
       "  <thead>\n",
       "    <tr style=\"text-align: right;\">\n",
       "      <th></th>\n",
       "      <th>Unnamed: 0</th>\n",
       "      <th>parcelid</th>\n",
       "      <th>baths</th>\n",
       "      <th>beds</th>\n",
       "      <th>home_sf</th>\n",
       "      <th>lot_sf</th>\n",
       "      <th>roomcnt</th>\n",
       "      <th>value</th>\n",
       "      <th>has_garage</th>\n",
       "      <th>has_base</th>\n",
       "      <th>...</th>\n",
       "      <th>has_hottub</th>\n",
       "      <th>is_extra</th>\n",
       "      <th>all_rooms</th>\n",
       "      <th>factor</th>\n",
       "      <th>sq_feet_proxy6</th>\n",
       "      <th>county</th>\n",
       "      <th>state</th>\n",
       "      <th>tax_rate</th>\n",
       "      <th>size_ratio</th>\n",
       "      <th>age</th>\n",
       "    </tr>\n",
       "  </thead>\n",
       "  <tbody>\n",
       "    <tr>\n",
       "      <th>0</th>\n",
       "      <td>0</td>\n",
       "      <td>11289917</td>\n",
       "      <td>2.000</td>\n",
       "      <td>3.000</td>\n",
       "      <td>1458.000</td>\n",
       "      <td>8284.000</td>\n",
       "      <td>0.000</td>\n",
       "      <td>136104.000</td>\n",
       "      <td>0</td>\n",
       "      <td>0</td>\n",
       "      <td>...</td>\n",
       "      <td>0</td>\n",
       "      <td>2</td>\n",
       "      <td>5.000</td>\n",
       "      <td>311.307</td>\n",
       "      <td>4.683</td>\n",
       "      <td>Los_Angeles</td>\n",
       "      <td>CA</td>\n",
       "      <td>0.017</td>\n",
       "      <td>0.176</td>\n",
       "      <td>47</td>\n",
       "    </tr>\n",
       "    <tr>\n",
       "      <th>1</th>\n",
       "      <td>1</td>\n",
       "      <td>14269464</td>\n",
       "      <td>3.000</td>\n",
       "      <td>4.000</td>\n",
       "      <td>2541.000</td>\n",
       "      <td>4975.000</td>\n",
       "      <td>0.000</td>\n",
       "      <td>880456.000</td>\n",
       "      <td>1</td>\n",
       "      <td>0</td>\n",
       "      <td>...</td>\n",
       "      <td>0</td>\n",
       "      <td>1</td>\n",
       "      <td>7.000</td>\n",
       "      <td>311.307</td>\n",
       "      <td>8.162</td>\n",
       "      <td>Orange</td>\n",
       "      <td>CA</td>\n",
       "      <td>0.011</td>\n",
       "      <td>0.511</td>\n",
       "      <td>14</td>\n",
       "    </tr>\n",
       "    <tr>\n",
       "      <th>2</th>\n",
       "      <td>2</td>\n",
       "      <td>11389003</td>\n",
       "      <td>2.000</td>\n",
       "      <td>3.000</td>\n",
       "      <td>1650.000</td>\n",
       "      <td>7300.000</td>\n",
       "      <td>0.000</td>\n",
       "      <td>614000.000</td>\n",
       "      <td>0</td>\n",
       "      <td>0</td>\n",
       "      <td>...</td>\n",
       "      <td>0</td>\n",
       "      <td>0</td>\n",
       "      <td>5.000</td>\n",
       "      <td>311.307</td>\n",
       "      <td>5.300</td>\n",
       "      <td>Los_Angeles</td>\n",
       "      <td>CA</td>\n",
       "      <td>0.012</td>\n",
       "      <td>0.226</td>\n",
       "      <td>68</td>\n",
       "    </tr>\n",
       "    <tr>\n",
       "      <th>3</th>\n",
       "      <td>3</td>\n",
       "      <td>14236060</td>\n",
       "      <td>2.000</td>\n",
       "      <td>3.000</td>\n",
       "      <td>1668.000</td>\n",
       "      <td>6774.000</td>\n",
       "      <td>7.000</td>\n",
       "      <td>196483.000</td>\n",
       "      <td>1</td>\n",
       "      <td>0</td>\n",
       "      <td>...</td>\n",
       "      <td>0</td>\n",
       "      <td>1</td>\n",
       "      <td>12.000</td>\n",
       "      <td>311.307</td>\n",
       "      <td>5.358</td>\n",
       "      <td>Orange</td>\n",
       "      <td>CA</td>\n",
       "      <td>0.012</td>\n",
       "      <td>0.246</td>\n",
       "      <td>41</td>\n",
       "    </tr>\n",
       "    <tr>\n",
       "      <th>4</th>\n",
       "      <td>4</td>\n",
       "      <td>14365030</td>\n",
       "      <td>2.500</td>\n",
       "      <td>3.000</td>\n",
       "      <td>1653.000</td>\n",
       "      <td>3090.000</td>\n",
       "      <td>0.000</td>\n",
       "      <td>605000.000</td>\n",
       "      <td>1</td>\n",
       "      <td>0</td>\n",
       "      <td>...</td>\n",
       "      <td>0</td>\n",
       "      <td>1</td>\n",
       "      <td>5.500</td>\n",
       "      <td>311.307</td>\n",
       "      <td>5.310</td>\n",
       "      <td>Orange</td>\n",
       "      <td>CA</td>\n",
       "      <td>0.010</td>\n",
       "      <td>0.535</td>\n",
       "      <td>25</td>\n",
       "    </tr>\n",
       "  </tbody>\n",
       "</table>\n",
       "<p>5 rows × 24 columns</p>\n",
       "</div>"
      ],
      "text/plain": [
       "   Unnamed: 0  parcelid  baths  beds  home_sf   lot_sf  roomcnt      value  \\\n",
       "0           0  11289917  2.000 3.000 1458.000 8284.000    0.000 136104.000   \n",
       "1           1  14269464  3.000 4.000 2541.000 4975.000    0.000 880456.000   \n",
       "2           2  11389003  2.000 3.000 1650.000 7300.000    0.000 614000.000   \n",
       "3           3  14236060  2.000 3.000 1668.000 6774.000    7.000 196483.000   \n",
       "4           4  14365030  2.500 3.000 1653.000 3090.000    0.000 605000.000   \n",
       "\n",
       "   has_garage  has_base  ...  has_hottub  is_extra  all_rooms  factor  \\\n",
       "0           0         0  ...           0         2      5.000 311.307   \n",
       "1           1         0  ...           0         1      7.000 311.307   \n",
       "2           0         0  ...           0         0      5.000 311.307   \n",
       "3           1         0  ...           0         1     12.000 311.307   \n",
       "4           1         0  ...           0         1      5.500 311.307   \n",
       "\n",
       "   sq_feet_proxy6       county  state  tax_rate  size_ratio age  \n",
       "0           4.683  Los_Angeles     CA     0.017       0.176  47  \n",
       "1           8.162       Orange     CA     0.011       0.511  14  \n",
       "2           5.300  Los_Angeles     CA     0.012       0.226  68  \n",
       "3           5.358       Orange     CA     0.012       0.246  41  \n",
       "4           5.310       Orange     CA     0.010       0.535  25  \n",
       "\n",
       "[5 rows x 24 columns]"
      ]
     },
     "execution_count": 2,
     "metadata": {},
     "output_type": "execute_result"
    }
   ],
   "source": [
    "zillow = pd.read_csv('zillow_wt.csv')\n",
    "zillow.head()"
   ]
  },
  {
   "cell_type": "markdown",
   "metadata": {},
   "source": [
    "1. First prepare the df\n",
    "> Delete the columns regarding county, state & tax_rate. Because it was imported as a csv, the index column was messed up, so set the index to parcelid and delete the weird unnamed: 0 column.."
   ]
  },
  {
   "cell_type": "code",
   "execution_count": 3,
   "metadata": {},
   "outputs": [],
   "source": [
    "zillow = zillow.drop(columns=['county', 'state', 'tax_rate', 'Unnamed: 0'])\n",
    "zillow = zillow.set_index('parcelid')"
   ]
  },
  {
   "cell_type": "code",
   "execution_count": 4,
   "metadata": {},
   "outputs": [
    {
     "data": {
      "text/html": [
       "<div>\n",
       "<style scoped>\n",
       "    .dataframe tbody tr th:only-of-type {\n",
       "        vertical-align: middle;\n",
       "    }\n",
       "\n",
       "    .dataframe tbody tr th {\n",
       "        vertical-align: top;\n",
       "    }\n",
       "\n",
       "    .dataframe thead th {\n",
       "        text-align: right;\n",
       "    }\n",
       "</style>\n",
       "<table border=\"1\" class=\"dataframe\">\n",
       "  <thead>\n",
       "    <tr style=\"text-align: right;\">\n",
       "      <th></th>\n",
       "      <th>baths</th>\n",
       "      <th>beds</th>\n",
       "      <th>home_sf</th>\n",
       "      <th>lot_sf</th>\n",
       "      <th>roomcnt</th>\n",
       "      <th>value</th>\n",
       "      <th>has_garage</th>\n",
       "      <th>has_base</th>\n",
       "      <th>has_AC</th>\n",
       "      <th>has_fire</th>\n",
       "      <th>has_pool</th>\n",
       "      <th>has_deck</th>\n",
       "      <th>has_hottub</th>\n",
       "      <th>is_extra</th>\n",
       "      <th>all_rooms</th>\n",
       "      <th>factor</th>\n",
       "      <th>sq_feet_proxy6</th>\n",
       "      <th>size_ratio</th>\n",
       "      <th>age</th>\n",
       "    </tr>\n",
       "    <tr>\n",
       "      <th>parcelid</th>\n",
       "      <th></th>\n",
       "      <th></th>\n",
       "      <th></th>\n",
       "      <th></th>\n",
       "      <th></th>\n",
       "      <th></th>\n",
       "      <th></th>\n",
       "      <th></th>\n",
       "      <th></th>\n",
       "      <th></th>\n",
       "      <th></th>\n",
       "      <th></th>\n",
       "      <th></th>\n",
       "      <th></th>\n",
       "      <th></th>\n",
       "      <th></th>\n",
       "      <th></th>\n",
       "      <th></th>\n",
       "      <th></th>\n",
       "    </tr>\n",
       "  </thead>\n",
       "  <tbody>\n",
       "    <tr>\n",
       "      <th>11289917</th>\n",
       "      <td>2.000</td>\n",
       "      <td>3.000</td>\n",
       "      <td>1458.000</td>\n",
       "      <td>8284.000</td>\n",
       "      <td>0.000</td>\n",
       "      <td>136104.000</td>\n",
       "      <td>0</td>\n",
       "      <td>0</td>\n",
       "      <td>1</td>\n",
       "      <td>0</td>\n",
       "      <td>1</td>\n",
       "      <td>0</td>\n",
       "      <td>0</td>\n",
       "      <td>2</td>\n",
       "      <td>5.000</td>\n",
       "      <td>311.307</td>\n",
       "      <td>4.683</td>\n",
       "      <td>0.176</td>\n",
       "      <td>47</td>\n",
       "    </tr>\n",
       "    <tr>\n",
       "      <th>14269464</th>\n",
       "      <td>3.000</td>\n",
       "      <td>4.000</td>\n",
       "      <td>2541.000</td>\n",
       "      <td>4975.000</td>\n",
       "      <td>0.000</td>\n",
       "      <td>880456.000</td>\n",
       "      <td>1</td>\n",
       "      <td>0</td>\n",
       "      <td>0</td>\n",
       "      <td>0</td>\n",
       "      <td>0</td>\n",
       "      <td>0</td>\n",
       "      <td>0</td>\n",
       "      <td>1</td>\n",
       "      <td>7.000</td>\n",
       "      <td>311.307</td>\n",
       "      <td>8.162</td>\n",
       "      <td>0.511</td>\n",
       "      <td>14</td>\n",
       "    </tr>\n",
       "    <tr>\n",
       "      <th>11389003</th>\n",
       "      <td>2.000</td>\n",
       "      <td>3.000</td>\n",
       "      <td>1650.000</td>\n",
       "      <td>7300.000</td>\n",
       "      <td>0.000</td>\n",
       "      <td>614000.000</td>\n",
       "      <td>0</td>\n",
       "      <td>0</td>\n",
       "      <td>0</td>\n",
       "      <td>0</td>\n",
       "      <td>0</td>\n",
       "      <td>0</td>\n",
       "      <td>0</td>\n",
       "      <td>0</td>\n",
       "      <td>5.000</td>\n",
       "      <td>311.307</td>\n",
       "      <td>5.300</td>\n",
       "      <td>0.226</td>\n",
       "      <td>68</td>\n",
       "    </tr>\n",
       "    <tr>\n",
       "      <th>14236060</th>\n",
       "      <td>2.000</td>\n",
       "      <td>3.000</td>\n",
       "      <td>1668.000</td>\n",
       "      <td>6774.000</td>\n",
       "      <td>7.000</td>\n",
       "      <td>196483.000</td>\n",
       "      <td>1</td>\n",
       "      <td>0</td>\n",
       "      <td>0</td>\n",
       "      <td>0</td>\n",
       "      <td>0</td>\n",
       "      <td>0</td>\n",
       "      <td>0</td>\n",
       "      <td>1</td>\n",
       "      <td>12.000</td>\n",
       "      <td>311.307</td>\n",
       "      <td>5.358</td>\n",
       "      <td>0.246</td>\n",
       "      <td>41</td>\n",
       "    </tr>\n",
       "    <tr>\n",
       "      <th>14365030</th>\n",
       "      <td>2.500</td>\n",
       "      <td>3.000</td>\n",
       "      <td>1653.000</td>\n",
       "      <td>3090.000</td>\n",
       "      <td>0.000</td>\n",
       "      <td>605000.000</td>\n",
       "      <td>1</td>\n",
       "      <td>0</td>\n",
       "      <td>0</td>\n",
       "      <td>0</td>\n",
       "      <td>0</td>\n",
       "      <td>0</td>\n",
       "      <td>0</td>\n",
       "      <td>1</td>\n",
       "      <td>5.500</td>\n",
       "      <td>311.307</td>\n",
       "      <td>5.310</td>\n",
       "      <td>0.535</td>\n",
       "      <td>25</td>\n",
       "    </tr>\n",
       "  </tbody>\n",
       "</table>\n",
       "</div>"
      ],
      "text/plain": [
       "          baths  beds  home_sf   lot_sf  roomcnt      value  has_garage  \\\n",
       "parcelid                                                                  \n",
       "11289917  2.000 3.000 1458.000 8284.000    0.000 136104.000           0   \n",
       "14269464  3.000 4.000 2541.000 4975.000    0.000 880456.000           1   \n",
       "11389003  2.000 3.000 1650.000 7300.000    0.000 614000.000           0   \n",
       "14236060  2.000 3.000 1668.000 6774.000    7.000 196483.000           1   \n",
       "14365030  2.500 3.000 1653.000 3090.000    0.000 605000.000           1   \n",
       "\n",
       "          has_base  has_AC  has_fire  has_pool  has_deck  has_hottub  \\\n",
       "parcelid                                                               \n",
       "11289917         0       1         0         1         0           0   \n",
       "14269464         0       0         0         0         0           0   \n",
       "11389003         0       0         0         0         0           0   \n",
       "14236060         0       0         0         0         0           0   \n",
       "14365030         0       0         0         0         0           0   \n",
       "\n",
       "          is_extra  all_rooms  factor  sq_feet_proxy6  size_ratio  age  \n",
       "parcelid                                                                \n",
       "11289917         2      5.000 311.307           4.683       0.176   47  \n",
       "14269464         1      7.000 311.307           8.162       0.511   14  \n",
       "11389003         0      5.000 311.307           5.300       0.226   68  \n",
       "14236060         1     12.000 311.307           5.358       0.246   41  \n",
       "14365030         1      5.500 311.307           5.310       0.535   25  "
      ]
     },
     "execution_count": 4,
     "metadata": {},
     "output_type": "execute_result"
    }
   ],
   "source": [
    "zillow.head()"
   ]
  },
  {
   "cell_type": "markdown",
   "metadata": {},
   "source": [
    "2. Now split the dataset into train & test sets"
   ]
  },
  {
   "cell_type": "code",
   "execution_count": 5,
   "metadata": {},
   "outputs": [],
   "source": [
    "train, test = split_scale.split_my_data(zillow, 0.8)"
   ]
  },
  {
   "cell_type": "markdown",
   "metadata": {},
   "source": [
    "3. Scale the datasets and set up the X and y sets.\n",
    "> In my various test runs, I determined that the std & min-max scalers worked the best of all scaling options. I will use the std scaler here."
   ]
  },
  {
   "cell_type": "code",
   "execution_count": 6,
   "metadata": {},
   "outputs": [
    {
     "data": {
      "text/html": [
       "<div>\n",
       "<style scoped>\n",
       "    .dataframe tbody tr th:only-of-type {\n",
       "        vertical-align: middle;\n",
       "    }\n",
       "\n",
       "    .dataframe tbody tr th {\n",
       "        vertical-align: top;\n",
       "    }\n",
       "\n",
       "    .dataframe thead th {\n",
       "        text-align: right;\n",
       "    }\n",
       "</style>\n",
       "<table border=\"1\" class=\"dataframe\">\n",
       "  <thead>\n",
       "    <tr style=\"text-align: right;\">\n",
       "      <th></th>\n",
       "      <th>baths</th>\n",
       "      <th>beds</th>\n",
       "      <th>home_sf</th>\n",
       "      <th>lot_sf</th>\n",
       "      <th>roomcnt</th>\n",
       "      <th>has_garage</th>\n",
       "      <th>has_base</th>\n",
       "      <th>has_AC</th>\n",
       "      <th>has_fire</th>\n",
       "      <th>has_pool</th>\n",
       "      <th>has_deck</th>\n",
       "      <th>has_hottub</th>\n",
       "      <th>is_extra</th>\n",
       "      <th>all_rooms</th>\n",
       "      <th>factor</th>\n",
       "      <th>sq_feet_proxy6</th>\n",
       "      <th>size_ratio</th>\n",
       "      <th>age</th>\n",
       "    </tr>\n",
       "    <tr>\n",
       "      <th>parcelid</th>\n",
       "      <th></th>\n",
       "      <th></th>\n",
       "      <th></th>\n",
       "      <th></th>\n",
       "      <th></th>\n",
       "      <th></th>\n",
       "      <th></th>\n",
       "      <th></th>\n",
       "      <th></th>\n",
       "      <th></th>\n",
       "      <th></th>\n",
       "      <th></th>\n",
       "      <th></th>\n",
       "      <th></th>\n",
       "      <th></th>\n",
       "      <th></th>\n",
       "      <th></th>\n",
       "      <th></th>\n",
       "    </tr>\n",
       "  </thead>\n",
       "  <tbody>\n",
       "    <tr>\n",
       "      <th>11660901</th>\n",
       "      <td>3.000</td>\n",
       "      <td>4.000</td>\n",
       "      <td>2280.000</td>\n",
       "      <td>11800.000</td>\n",
       "      <td>0.000</td>\n",
       "      <td>0</td>\n",
       "      <td>0</td>\n",
       "      <td>0</td>\n",
       "      <td>0</td>\n",
       "      <td>0</td>\n",
       "      <td>0</td>\n",
       "      <td>0</td>\n",
       "      <td>0</td>\n",
       "      <td>7.000</td>\n",
       "      <td>149247.875</td>\n",
       "      <td>0.015</td>\n",
       "      <td>0.193</td>\n",
       "      <td>63</td>\n",
       "    </tr>\n",
       "    <tr>\n",
       "      <th>14371237</th>\n",
       "      <td>2.000</td>\n",
       "      <td>3.000</td>\n",
       "      <td>1248.000</td>\n",
       "      <td>8645.000</td>\n",
       "      <td>5.000</td>\n",
       "      <td>1</td>\n",
       "      <td>0</td>\n",
       "      <td>0</td>\n",
       "      <td>0</td>\n",
       "      <td>0</td>\n",
       "      <td>0</td>\n",
       "      <td>0</td>\n",
       "      <td>1</td>\n",
       "      <td>10.000</td>\n",
       "      <td>311.307</td>\n",
       "      <td>4.009</td>\n",
       "      <td>0.144</td>\n",
       "      <td>45</td>\n",
       "    </tr>\n",
       "    <tr>\n",
       "      <th>11402613</th>\n",
       "      <td>2.000</td>\n",
       "      <td>3.000</td>\n",
       "      <td>1713.000</td>\n",
       "      <td>6006.000</td>\n",
       "      <td>0.000</td>\n",
       "      <td>0</td>\n",
       "      <td>0</td>\n",
       "      <td>0</td>\n",
       "      <td>0</td>\n",
       "      <td>1</td>\n",
       "      <td>0</td>\n",
       "      <td>0</td>\n",
       "      <td>1</td>\n",
       "      <td>5.000</td>\n",
       "      <td>311.307</td>\n",
       "      <td>5.503</td>\n",
       "      <td>0.285</td>\n",
       "      <td>58</td>\n",
       "    </tr>\n",
       "    <tr>\n",
       "      <th>12709758</th>\n",
       "      <td>2.000</td>\n",
       "      <td>4.000</td>\n",
       "      <td>1617.000</td>\n",
       "      <td>8358.000</td>\n",
       "      <td>0.000</td>\n",
       "      <td>0</td>\n",
       "      <td>0</td>\n",
       "      <td>0</td>\n",
       "      <td>0</td>\n",
       "      <td>0</td>\n",
       "      <td>0</td>\n",
       "      <td>0</td>\n",
       "      <td>0</td>\n",
       "      <td>6.000</td>\n",
       "      <td>311.307</td>\n",
       "      <td>5.194</td>\n",
       "      <td>0.194</td>\n",
       "      <td>54</td>\n",
       "    </tr>\n",
       "    <tr>\n",
       "      <th>12085152</th>\n",
       "      <td>4.000</td>\n",
       "      <td>4.000</td>\n",
       "      <td>3686.000</td>\n",
       "      <td>5160.000</td>\n",
       "      <td>0.000</td>\n",
       "      <td>0</td>\n",
       "      <td>0</td>\n",
       "      <td>0</td>\n",
       "      <td>0</td>\n",
       "      <td>0</td>\n",
       "      <td>0</td>\n",
       "      <td>0</td>\n",
       "      <td>0</td>\n",
       "      <td>8.000</td>\n",
       "      <td>59124.557</td>\n",
       "      <td>0.062</td>\n",
       "      <td>0.714</td>\n",
       "      <td>40</td>\n",
       "    </tr>\n",
       "  </tbody>\n",
       "</table>\n",
       "</div>"
      ],
      "text/plain": [
       "          baths  beds  home_sf    lot_sf  roomcnt  has_garage  has_base  \\\n",
       "parcelid                                                                  \n",
       "11660901  3.000 4.000 2280.000 11800.000    0.000           0         0   \n",
       "14371237  2.000 3.000 1248.000  8645.000    5.000           1         0   \n",
       "11402613  2.000 3.000 1713.000  6006.000    0.000           0         0   \n",
       "12709758  2.000 4.000 1617.000  8358.000    0.000           0         0   \n",
       "12085152  4.000 4.000 3686.000  5160.000    0.000           0         0   \n",
       "\n",
       "          has_AC  has_fire  has_pool  has_deck  has_hottub  is_extra  \\\n",
       "parcelid                                                               \n",
       "11660901       0         0         0         0           0         0   \n",
       "14371237       0         0         0         0           0         1   \n",
       "11402613       0         0         1         0           0         1   \n",
       "12709758       0         0         0         0           0         0   \n",
       "12085152       0         0         0         0           0         0   \n",
       "\n",
       "          all_rooms     factor  sq_feet_proxy6  size_ratio  age  \n",
       "parcelid                                                         \n",
       "11660901      7.000 149247.875           0.015       0.193   63  \n",
       "14371237     10.000    311.307           4.009       0.144   45  \n",
       "11402613      5.000    311.307           5.503       0.285   58  \n",
       "12709758      6.000    311.307           5.194       0.194   54  \n",
       "12085152      8.000  59124.557           0.062       0.714   40  "
      ]
     },
     "execution_count": 6,
     "metadata": {},
     "output_type": "execute_result"
    }
   ],
   "source": [
    "std_scaler, train_scaled_std, test_scaled_std = split_scale.standard_scaler(train, test)\n",
    "y = train[['value']]\n",
    "X = train.drop(columns='value')\n",
    "X.head()"
   ]
  },
  {
   "cell_type": "markdown",
   "metadata": {},
   "source": [
    "## Modeling & Evaluation\n",
    "\n",
    "1. Create the predictions dataframe."
   ]
  },
  {
   "cell_type": "code",
   "execution_count": 7,
   "metadata": {},
   "outputs": [],
   "source": [
    "predictions = pd.DataFrame({\n",
    "    'actual': train.value,\n",
    "    'baseline': train.value.mean()\n",
    "})"
   ]
  },
  {
   "cell_type": "markdown",
   "metadata": {},
   "source": [
    "2. MVP model for comparison"
   ]
  },
  {
   "cell_type": "code",
   "execution_count": 8,
   "metadata": {},
   "outputs": [],
   "source": [
    "X = train[['baths', 'beds', 'home_sf']]\n",
    "\n",
    "poly = PolynomialFeatures(degree=3)\n",
    "X_poly = poly.fit_transform(X)\n",
    "lm_poly = LinearRegression(normalize=False).fit(X_poly, y)\n",
    "\n",
    "predictions['MVP'] = lm_poly.predict(X_poly)"
   ]
  },
  {
   "cell_type": "markdown",
   "metadata": {},
   "source": [
    "3. Use RFE to select the top 2 - 8 features. If the RMSE of the model with 8 features is better than the others, continue using RFE to add features until the model performs worse."
   ]
  },
  {
   "cell_type": "code",
   "execution_count": 9,
   "metadata": {},
   "outputs": [
    {
     "name": "stdout",
     "output_type": "stream",
     "text": [
      "['baths', 'beds']\n",
      "['baths', 'beds', 'home_sf']\n",
      "['baths', 'beds', 'home_sf']\n",
      "['baths', 'beds', 'home_sf']\n",
      "['baths', 'beds', 'home_sf']\n"
     ]
    },
    {
     "data": {
      "text/plain": [
       "(None, None, None, None, None)"
      ]
     },
     "execution_count": 9,
     "metadata": {},
     "output_type": "execute_result"
    }
   ],
   "source": [
    "model.select_rfe(X, y, 2), model.select_rfe(X, y, 3), model.select_rfe(X, y, 4), model.select_rfe(X, y, 5), model.select_rfe(X, y, 6)"
   ]
  },
  {
   "cell_type": "markdown",
   "metadata": {},
   "source": [
    "> I think the has_* features are messing up the RFE function, I'm going to remove those features since they are captured in the is_extra feature"
   ]
  },
  {
   "cell_type": "code",
   "execution_count": 10,
   "metadata": {},
   "outputs": [],
   "source": [
    "X = train[['baths', 'beds', 'home_sf', 'lot_sf', 'roomcnt', 'is_extra',\n",
    "      'all_rooms', 'sq_feet_proxy6', 'size_ratio', 'age']]"
   ]
  },
  {
   "cell_type": "code",
   "execution_count": 11,
   "metadata": {},
   "outputs": [
    {
     "name": "stdout",
     "output_type": "stream",
     "text": [
      "['beds', 'roomcnt']\n",
      "['beds', 'roomcnt', 'all_rooms']\n",
      "['baths', 'beds', 'roomcnt', 'all_rooms']\n",
      "['baths', 'beds', 'roomcnt', 'all_rooms', 'size_ratio']\n"
     ]
    },
    {
     "data": {
      "text/plain": [
       "(None, None, None, None)"
      ]
     },
     "execution_count": 11,
     "metadata": {},
     "output_type": "execute_result"
    }
   ],
   "source": [
    "model.select_rfe(X, y, 2), model.select_rfe(X, y, 3), model.select_rfe(X, y, 4), model.select_rfe(X, y, 5)"
   ]
  },
  {
   "cell_type": "code",
   "execution_count": 12,
   "metadata": {},
   "outputs": [],
   "source": [
    "X_rfe2 = X[['beds', 'roomcnt']]\n",
    "X_rfe3 = X[['beds', 'roomcnt', 'all_rooms']]\n",
    "X_rfe4 = X[['baths', 'beds', 'roomcnt', 'all_rooms']]\n",
    "X_rfe5 = X[['baths', 'beds', 'roomcnt', 'all_rooms', 'size_ratio']]"
   ]
  },
  {
   "cell_type": "code",
   "execution_count": 13,
   "metadata": {},
   "outputs": [
    {
     "name": "stdout",
     "output_type": "stream",
     "text": [
      "['baths', 'beds', 'roomcnt', 'is_extra', 'all_rooms', 'size_ratio']\n",
      "['baths', 'beds', 'roomcnt', 'is_extra', 'all_rooms', 'sq_feet_proxy6', 'size_ratio']\n",
      "['baths', 'beds', 'home_sf', 'roomcnt', 'is_extra', 'all_rooms', 'sq_feet_proxy6', 'size_ratio']\n"
     ]
    },
    {
     "data": {
      "text/plain": [
       "(None, None, None)"
      ]
     },
     "execution_count": 13,
     "metadata": {},
     "output_type": "execute_result"
    }
   ],
   "source": [
    "model.select_rfe(X, y, 6), model.select_rfe(X, y, 7), model.select_rfe(X, y, 8)"
   ]
  },
  {
   "cell_type": "code",
   "execution_count": 14,
   "metadata": {},
   "outputs": [],
   "source": [
    "X_rfe6 = X[['baths', 'beds', 'roomcnt', 'is_extra', 'all_rooms', 'size_ratio']]\n",
    "X_rfe7 = X[['sq_feet_proxy6', 'size_ratio', 'baths', 'beds', 'roomcnt', \n",
    "            'is_extra', 'all_rooms']]\n",
    "X_rfe8 = X[['sq_feet_proxy6', 'size_ratio', 'baths', 'beds', 'home_sf',\n",
    "            'roomcnt', 'is_extra', 'all_rooms']]"
   ]
  },
  {
   "cell_type": "markdown",
   "metadata": {},
   "source": [
    "5. Make models with RFE selected features."
   ]
  },
  {
   "cell_type": "code",
   "execution_count": 15,
   "metadata": {},
   "outputs": [],
   "source": [
    "poly = PolynomialFeatures(degree=2)\n",
    "\n",
    "X_poly = poly.fit_transform(X_rfe2)\n",
    "lm_rfe2 = LinearRegression(copy_X=True, fit_intercept=True, n_jobs=None, normalize=False).fit(X_poly, y)\n",
    "predictions['rfe2'] = lm_rfe2.predict(X_poly)"
   ]
  },
  {
   "cell_type": "code",
   "execution_count": 16,
   "metadata": {},
   "outputs": [],
   "source": [
    "poly = PolynomialFeatures(degree=3)\n",
    "\n",
    "X_poly = poly.fit_transform(X_rfe3)\n",
    "lm_rfe3 = LinearRegression(copy_X=True, fit_intercept=True, n_jobs=None, normalize=False).fit(X_poly, y)\n",
    "predictions['rfe3'] = lm_rfe3.predict(X_poly)"
   ]
  },
  {
   "cell_type": "code",
   "execution_count": 17,
   "metadata": {},
   "outputs": [],
   "source": [
    "poly = PolynomialFeatures(degree=4)\n",
    "\n",
    "X_poly = poly.fit_transform(X_rfe4)\n",
    "lm_rfe4 = LinearRegression(copy_X=True, fit_intercept=True, n_jobs=None, normalize=False).fit(X_poly, y)\n",
    "predictions['rfe4'] = lm_rfe4.predict(X_poly)"
   ]
  },
  {
   "cell_type": "code",
   "execution_count": 18,
   "metadata": {},
   "outputs": [],
   "source": [
    "poly = PolynomialFeatures(degree=5)\n",
    "\n",
    "X_poly = poly.fit_transform(X_rfe5)\n",
    "lm_rfe5 = LinearRegression(copy_X=True, fit_intercept=True, n_jobs=None, normalize=False).fit(X_poly, y)\n",
    "predictions['rfe5'] = lm_rfe5.predict(X_poly)"
   ]
  },
  {
   "cell_type": "code",
   "execution_count": 19,
   "metadata": {},
   "outputs": [],
   "source": [
    "poly = PolynomialFeatures(degree=6)\n",
    "\n",
    "X_poly = poly.fit_transform(X_rfe6)\n",
    "lm_rfe6 = LinearRegression(copy_X=True, fit_intercept=True, n_jobs=None, normalize=False).fit(X_poly, y)\n",
    "predictions['rfe6'] = lm_rfe6.predict(X_poly)"
   ]
  },
  {
   "cell_type": "code",
   "execution_count": 20,
   "metadata": {},
   "outputs": [],
   "source": [
    "poly = PolynomialFeatures(degree=7)\n",
    "\n",
    "X_poly = poly.fit_transform(X_rfe7)\n",
    "lm_rfe7 = LinearRegression(copy_X=True, fit_intercept=True, n_jobs=None, normalize=False).fit(X_poly, y)\n",
    "predictions['rfe7'] = lm_rfe7.predict(X_poly)"
   ]
  },
  {
   "cell_type": "code",
   "execution_count": 21,
   "metadata": {},
   "outputs": [],
   "source": [
    "poly = PolynomialFeatures(degree=8)\n",
    "\n",
    "X_poly = poly.fit_transform(X_rfe8)\n",
    "lm_rfe8 = LinearRegression(copy_X=True, fit_intercept=True, n_jobs=None, normalize=False).fit(X_poly, y)\n",
    "predictions['rfe8'] = lm_rfe8.predict(X_poly)"
   ]
  },
  {
   "cell_type": "code",
   "execution_count": 22,
   "metadata": {},
   "outputs": [
    {
     "data": {
      "text/html": [
       "<div>\n",
       "<style scoped>\n",
       "    .dataframe tbody tr th:only-of-type {\n",
       "        vertical-align: middle;\n",
       "    }\n",
       "\n",
       "    .dataframe tbody tr th {\n",
       "        vertical-align: top;\n",
       "    }\n",
       "\n",
       "    .dataframe thead th {\n",
       "        text-align: right;\n",
       "    }\n",
       "</style>\n",
       "<table border=\"1\" class=\"dataframe\">\n",
       "  <thead>\n",
       "    <tr style=\"text-align: right;\">\n",
       "      <th></th>\n",
       "      <th>actual</th>\n",
       "      <th>baseline</th>\n",
       "      <th>MVP</th>\n",
       "      <th>rfe2</th>\n",
       "      <th>rfe3</th>\n",
       "      <th>rfe4</th>\n",
       "      <th>rfe5</th>\n",
       "      <th>rfe6</th>\n",
       "      <th>rfe7</th>\n",
       "      <th>rfe8</th>\n",
       "    </tr>\n",
       "    <tr>\n",
       "      <th>parcelid</th>\n",
       "      <th></th>\n",
       "      <th></th>\n",
       "      <th></th>\n",
       "      <th></th>\n",
       "      <th></th>\n",
       "      <th></th>\n",
       "      <th></th>\n",
       "      <th></th>\n",
       "      <th></th>\n",
       "      <th></th>\n",
       "    </tr>\n",
       "  </thead>\n",
       "  <tbody>\n",
       "    <tr>\n",
       "      <th>11660901</th>\n",
       "      <td>212239.000</td>\n",
       "      <td>540197.314</td>\n",
       "      <td>539042.604</td>\n",
       "      <td>685328.216</td>\n",
       "      <td>629662.499</td>\n",
       "      <td>590870.314</td>\n",
       "      <td>501013.314</td>\n",
       "      <td>476269.314</td>\n",
       "      <td>589770.330</td>\n",
       "      <td>446677.972</td>\n",
       "    </tr>\n",
       "    <tr>\n",
       "      <th>14371237</th>\n",
       "      <td>59662.000</td>\n",
       "      <td>540197.314</td>\n",
       "      <td>273135.041</td>\n",
       "      <td>336633.236</td>\n",
       "      <td>392060.770</td>\n",
       "      <td>404869.314</td>\n",
       "      <td>361637.314</td>\n",
       "      <td>323365.314</td>\n",
       "      <td>373803.217</td>\n",
       "      <td>372082.953</td>\n",
       "    </tr>\n",
       "    <tr>\n",
       "      <th>11402613</th>\n",
       "      <td>324673.000</td>\n",
       "      <td>540197.314</td>\n",
       "      <td>391763.160</td>\n",
       "      <td>449073.163</td>\n",
       "      <td>345944.752</td>\n",
       "      <td>354881.064</td>\n",
       "      <td>401124.314</td>\n",
       "      <td>386106.814</td>\n",
       "      <td>387378.216</td>\n",
       "      <td>395820.128</td>\n",
       "    </tr>\n",
       "    <tr>\n",
       "      <th>12709758</th>\n",
       "      <td>815000.000</td>\n",
       "      <td>540197.314</td>\n",
       "      <td>313172.843</td>\n",
       "      <td>685328.216</td>\n",
       "      <td>337115.525</td>\n",
       "      <td>329757.814</td>\n",
       "      <td>310609.314</td>\n",
       "      <td>278637.314</td>\n",
       "      <td>235171.518</td>\n",
       "      <td>383051.731</td>\n",
       "    </tr>\n",
       "    <tr>\n",
       "      <th>12085152</th>\n",
       "      <td>660717.000</td>\n",
       "      <td>540197.314</td>\n",
       "      <td>1244771.731</td>\n",
       "      <td>685328.216</td>\n",
       "      <td>1176314.089</td>\n",
       "      <td>1111815.314</td>\n",
       "      <td>1392693.314</td>\n",
       "      <td>1646573.314</td>\n",
       "      <td>940887.235</td>\n",
       "      <td>1425686.421</td>\n",
       "    </tr>\n",
       "  </tbody>\n",
       "</table>\n",
       "</div>"
      ],
      "text/plain": [
       "             actual   baseline         MVP       rfe2        rfe3        rfe4  \\\n",
       "parcelid                                                                        \n",
       "11660901 212239.000 540197.314  539042.604 685328.216  629662.499  590870.314   \n",
       "14371237  59662.000 540197.314  273135.041 336633.236  392060.770  404869.314   \n",
       "11402613 324673.000 540197.314  391763.160 449073.163  345944.752  354881.064   \n",
       "12709758 815000.000 540197.314  313172.843 685328.216  337115.525  329757.814   \n",
       "12085152 660717.000 540197.314 1244771.731 685328.216 1176314.089 1111815.314   \n",
       "\n",
       "                rfe5        rfe6       rfe7        rfe8  \n",
       "parcelid                                                 \n",
       "11660901  501013.314  476269.314 589770.330  446677.972  \n",
       "14371237  361637.314  323365.314 373803.217  372082.953  \n",
       "11402613  401124.314  386106.814 387378.216  395820.128  \n",
       "12709758  310609.314  278637.314 235171.518  383051.731  \n",
       "12085152 1392693.314 1646573.314 940887.235 1425686.421  "
      ]
     },
     "execution_count": 22,
     "metadata": {},
     "output_type": "execute_result"
    }
   ],
   "source": [
    "predictions.head()"
   ]
  },
  {
   "cell_type": "markdown",
   "metadata": {},
   "source": [
    "6. Set up evaluation function RMSE and the evaluation df"
   ]
  },
  {
   "cell_type": "code",
   "execution_count": 23,
   "metadata": {},
   "outputs": [],
   "source": [
    "RMSE_bl = model.RMSE(predictions.actual, predictions.baseline)\n",
    "RMSE_MVP = model.RMSE(predictions.actual, predictions.MVP)\n",
    "RMSE_rfe2 = model.RMSE(predictions.actual, predictions.rfe2)\n",
    "RMSE_rfe3 = model.RMSE(predictions.actual, predictions.rfe3)\n",
    "RMSE_rfe4 = model.RMSE(predictions.actual, predictions.rfe4)\n",
    "RMSE_rfe5 = model.RMSE(predictions.actual, predictions.rfe5)\n",
    "RMSE_rfe6 = model.RMSE(predictions.actual, predictions.rfe6)\n",
    "RMSE_rfe7 = model.RMSE(predictions.actual, predictions.rfe7)\n",
    "RMSE_rfe8 = model.RMSE(predictions.actual, predictions.rfe8)"
   ]
  },
  {
   "cell_type": "code",
   "execution_count": 49,
   "metadata": {},
   "outputs": [
    {
     "data": {
      "text/html": [
       "<div>\n",
       "<style scoped>\n",
       "    .dataframe tbody tr th:only-of-type {\n",
       "        vertical-align: middle;\n",
       "    }\n",
       "\n",
       "    .dataframe tbody tr th {\n",
       "        vertical-align: top;\n",
       "    }\n",
       "\n",
       "    .dataframe thead th {\n",
       "        text-align: right;\n",
       "    }\n",
       "</style>\n",
       "<table border=\"1\" class=\"dataframe\">\n",
       "  <thead>\n",
       "    <tr style=\"text-align: right;\">\n",
       "      <th></th>\n",
       "      <th>models</th>\n",
       "      <th>model_errors</th>\n",
       "    </tr>\n",
       "  </thead>\n",
       "  <tbody>\n",
       "    <tr>\n",
       "      <th>0</th>\n",
       "      <td>baseline</td>\n",
       "      <td>720603.322</td>\n",
       "    </tr>\n",
       "    <tr>\n",
       "      <th>1</th>\n",
       "      <td>MVP</td>\n",
       "      <td>543917.336</td>\n",
       "    </tr>\n",
       "    <tr>\n",
       "      <th>2</th>\n",
       "      <td>rfe2</td>\n",
       "      <td>684647.827</td>\n",
       "    </tr>\n",
       "    <tr>\n",
       "      <th>3</th>\n",
       "      <td>rfe3</td>\n",
       "      <td>589938.757</td>\n",
       "    </tr>\n",
       "    <tr>\n",
       "      <th>4</th>\n",
       "      <td>rfe4</td>\n",
       "      <td>586855.347</td>\n",
       "    </tr>\n",
       "    <tr>\n",
       "      <th>5</th>\n",
       "      <td>rfe5</td>\n",
       "      <td>568129.110</td>\n",
       "    </tr>\n",
       "    <tr>\n",
       "      <th>6</th>\n",
       "      <td>rfe6</td>\n",
       "      <td>531382.819</td>\n",
       "    </tr>\n",
       "    <tr>\n",
       "      <th>7</th>\n",
       "      <td>rfe7</td>\n",
       "      <td>412687.668</td>\n",
       "    </tr>\n",
       "    <tr>\n",
       "      <th>8</th>\n",
       "      <td>rfe8</td>\n",
       "      <td>523864.682</td>\n",
       "    </tr>\n",
       "  </tbody>\n",
       "</table>\n",
       "</div>"
      ],
      "text/plain": [
       "     models  model_errors\n",
       "0  baseline    720603.322\n",
       "1       MVP    543917.336\n",
       "2      rfe2    684647.827\n",
       "3      rfe3    589938.757\n",
       "4      rfe4    586855.347\n",
       "5      rfe5    568129.110\n",
       "6      rfe6    531382.819\n",
       "7      rfe7    412687.668\n",
       "8      rfe8    523864.682"
      ]
     },
     "execution_count": 49,
     "metadata": {},
     "output_type": "execute_result"
    }
   ],
   "source": [
    "# evaluation df\n",
    "eval_df = pd.DataFrame(np.array(['baseline', 'MVP', 'rfe2', 'rfe3','rfe4', 'rfe5',\n",
    "                                 'rfe6', 'rfe7', 'rfe8']), columns=['models'])\n",
    "eval_df['model_errors'] = np.array([RMSE_bl, RMSE_MVP, RMSE_rfe2, RMSE_rfe3, RMSE_rfe4,\n",
    "                                    RMSE_rfe5, RMSE_rfe6, RMSE_rfe7, RMSE_rfe8,])\n",
    "\n",
    "eval_df"
   ]
  },
  {
   "cell_type": "markdown",
   "metadata": {},
   "source": [
    "7. Decide which model has lowest RMSE"
   ]
  },
  {
   "cell_type": "code",
   "execution_count": 25,
   "metadata": {},
   "outputs": [
    {
     "data": {
      "text/html": [
       "<div>\n",
       "<style scoped>\n",
       "    .dataframe tbody tr th:only-of-type {\n",
       "        vertical-align: middle;\n",
       "    }\n",
       "\n",
       "    .dataframe tbody tr th {\n",
       "        vertical-align: top;\n",
       "    }\n",
       "\n",
       "    .dataframe thead th {\n",
       "        text-align: right;\n",
       "    }\n",
       "</style>\n",
       "<table border=\"1\" class=\"dataframe\">\n",
       "  <thead>\n",
       "    <tr style=\"text-align: right;\">\n",
       "      <th></th>\n",
       "      <th>models</th>\n",
       "      <th>model_errors</th>\n",
       "    </tr>\n",
       "  </thead>\n",
       "  <tbody>\n",
       "    <tr>\n",
       "      <th>7</th>\n",
       "      <td>rfe7</td>\n",
       "      <td>412687.668</td>\n",
       "    </tr>\n",
       "  </tbody>\n",
       "</table>\n",
       "</div>"
      ],
      "text/plain": [
       "  models  model_errors\n",
       "7   rfe7    412687.668"
      ]
     },
     "execution_count": 25,
     "metadata": {},
     "output_type": "execute_result"
    }
   ],
   "source": [
    "eval_df.sort_values(by='model_errors').head(1)"
   ]
  },
  {
   "cell_type": "markdown",
   "metadata": {},
   "source": [
    "8. Visualize Actual, MVP and RFE7 model's predictions"
   ]
  },
  {
   "cell_type": "code",
   "execution_count": 29,
   "metadata": {},
   "outputs": [
    {
     "data": {
      "text/plain": [
       "Text(0.5, 1.0, 'Predicted vs Actual Value')"
      ]
     },
     "execution_count": 29,
     "metadata": {},
     "output_type": "execute_result"
    },
    {
     "data": {
      "image/png": "[encoded data removed]",
      "text/plain": [
       "<Figure size 648x648 with 1 Axes>"
      ]
     },
     "metadata": {
      "needs_background": "light"
     },
     "output_type": "display_data"
    }
   ],
   "source": [
    "plt.figure(figsize=(9, 9))\n",
    "\n",
    "plt.scatter(predictions.actual, predictions.MVP, label='MVP model', marker='o')\n",
    "plt.scatter(predictions.actual, predictions.rfe7, label='Model with 7 features', marker='o')\n",
    "plt.scatter(predictions.actual, predictions.baseline, label=r'Baseline ($\\hat{y} = \\bar{y}$)', marker='o')\n",
    "\n",
    "plt.legend(title='Model')\n",
    "plt.ylabel('Predicted Value')\n",
    "plt.xlabel('Actual Value')\n",
    "plt.title('Predicted vs Actual Value')"
   ]
  },
  {
   "cell_type": "markdown",
   "metadata": {},
   "source": [
    "9. Report R2 and coefficients"
   ]
  },
  {
   "cell_type": "code",
   "execution_count": 34,
   "metadata": {},
   "outputs": [
    {
     "data": {
      "text/plain": [
       "((11913, 7), (11913, 1))"
      ]
     },
     "execution_count": 34,
     "metadata": {},
     "output_type": "execute_result"
    }
   ],
   "source": [
    "X_rfe7.shape, y.shape"
   ]
  },
  {
   "cell_type": "code",
   "execution_count": 40,
   "metadata": {},
   "outputs": [
    {
     "name": "stdout",
     "output_type": "stream",
     "text": [
      "67.20% of the variance in the value of a home can be explained by 7 features.\n"
     ]
    }
   ],
   "source": [
    "poly = PolynomialFeatures(degree=7)\n",
    "X_poly = poly.fit_transform(X_rfe7)\n",
    "lm_rfe7 = LinearRegression(copy_X=True, fit_intercept=True, n_jobs=None, normalize=False).fit(X_poly, y)\n",
    "r2_lm = lm_rfe7.score(X_poly, y)\n",
    "\n",
    "print(f'{r2_lm:.2%} of the variance in the value of a home can be explained by 7 features.')"
   ]
  },
  {
   "cell_type": "code",
   "execution_count": 42,
   "metadata": {},
   "outputs": [],
   "source": [
    "rfe = RFE(lm_rfe7, 7)\n",
    "X_rfe = rfe.fit_transform(X_rfe7,y)  \n",
    "mask = rfe.support_\n",
    "rfe_features = X_rfe7.columns[mask]"
   ]
  },
  {
   "cell_type": "code",
   "execution_count": 43,
   "metadata": {},
   "outputs": [
    {
     "name": "stdout",
     "output_type": "stream",
     "text": [
      "value = 1.119e+07 + -3.4e+03 * sq_feet_proxy6 + 3.5e+06 * size_ratio\n"
     ]
    }
   ],
   "source": [
    "output = \"{} = {:.4} + {:.2} * {} + {:.3} * {}\".format(\n",
    "    y.columns[0],\n",
    "    lm_rfe7.intercept_[0],\n",
    "    lm_rfe7.coef_[0][0],\n",
    "    rfe_features[0],\n",
    "    lm_rfe7.coef_[0][1],\n",
    "    rfe_features[1],\n",
    ")\n",
    "print(output)"
   ]
  },
  {
   "cell_type": "markdown",
   "metadata": {},
   "source": [
    "10. Apply this model to the test set and report RMSE & R2"
   ]
  },
  {
   "cell_type": "code",
   "execution_count": 45,
   "metadata": {},
   "outputs": [],
   "source": [
    "X = train[['sq_feet_proxy6', 'size_ratio', 'baths', 'beds', 'roomcnt', \n",
    "            'is_extra', 'all_rooms']]\n",
    "y = train[['value']]\n",
    "\n",
    "poly = PolynomialFeatures(degree=7, include_bias=False, interaction_only=True)\n",
    "poly.fit(X)\n",
    "X_poly = poly.fit_transform(X)\n",
    "lm = LinearRegression(copy_X=True, fit_intercept=True, n_jobs=None, normalize=False).fit(X_poly, y)"
   ]
  },
  {
   "cell_type": "code",
   "execution_count": 48,
   "metadata": {},
   "outputs": [
    {
     "data": {
      "text/plain": [
       "747099.022613376"
      ]
     },
     "execution_count": 48,
     "metadata": {},
     "output_type": "execute_result"
    }
   ],
   "source": [
    "X_test = test[['sq_feet_proxy6', 'size_ratio', 'baths', 'beds', 'roomcnt', \n",
    "            'is_extra', 'all_rooms']]\n",
    "X_test_poly = poly.transform(X_test)\n",
    "\n",
    "test_predictions = lm.predict(X_test_poly)\n",
    "test_actual = test.value\n",
    "RMSE = model.RMSE(test_actual, test_predictions)\n",
    "RMSE"
   ]
  },
  {
   "cell_type": "markdown",
   "metadata": {},
   "source": [
    "11. Compare to MVP model"
   ]
  },
  {
   "cell_type": "code",
   "execution_count": 50,
   "metadata": {},
   "outputs": [],
   "source": [
    "X = train[['baths', 'beds', 'home_sf']]\n",
    "y = train[['value']]\n",
    "\n",
    "poly = PolynomialFeatures(degree=3, include_bias=False, interaction_only=True)\n",
    "poly.fit(X)\n",
    "X_poly = poly.fit_transform(X)\n",
    "lm = LinearRegression(copy_X=True, fit_intercept=True, n_jobs=None, normalize=False).fit(X_poly, y)"
   ]
  },
  {
   "cell_type": "code",
   "execution_count": 51,
   "metadata": {},
   "outputs": [
    {
     "data": {
      "text/plain": [
       "532684.7298274062"
      ]
     },
     "execution_count": 51,
     "metadata": {},
     "output_type": "execute_result"
    }
   ],
   "source": [
    "X_test = test[['baths', 'beds', 'home_sf']]\n",
    "X_test_poly = poly.transform(X_test)\n",
    "\n",
    "test_predictions = lm.predict(X_test_poly)\n",
    "test_actual = test.value\n",
    "RMSE = model.RMSE(test_actual, test_predictions)\n",
    "RMSE"
   ]
  },
  {
   "cell_type": "markdown",
   "metadata": {},
   "source": [
    "So, after all that work, the MVP model significantly outperformed the model with more features"
   ]
  }
 ],
 "metadata": {
  "kernelspec": {
   "display_name": "Python 3",
   "language": "python",
   "name": "python3"
  },
  "language_info": {
   "codemirror_mode": {
    "name": "ipython",
    "version": 3
   },
   "file_extension": ".py",
   "mimetype": "text/x-python",
   "name": "python",
   "nbconvert_exporter": "python",
   "pygments_lexer": "ipython3",
   "version": "3.7.4"
  },
  "toc": {
   "base_numbering": 1,
   "nav_menu": {},
   "number_sections": true,
   "sideBar": true,
   "skip_h1_title": false,
   "title_cell": "Table of Contents",
   "title_sidebar": "Contents",
   "toc_cell": false,
   "toc_position": {},
   "toc_section_display": true,
   "toc_window_display": false
  }
 },
 "nbformat": 4,
 "nbformat_minor": 2
}
